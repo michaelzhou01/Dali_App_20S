{
 "cells": [
  {
   "cell_type": "code",
   "execution_count": 1,
   "metadata": {},
   "outputs": [],
   "source": [
    "import numpy as np\n",
    "import scipy as sp\n",
    "import pandas as pd\n",
    "import seaborn as sns\n",
    "import matplotlib.pyplot as plt\n",
    "%matplotlib inline"
   ]
  },
  {
   "cell_type": "code",
   "execution_count": 2,
   "metadata": {
    "scrolled": false
   },
   "outputs": [
    {
     "data": {
      "text/html": [
       "<div>\n",
       "<style scoped>\n",
       "    .dataframe tbody tr th:only-of-type {\n",
       "        vertical-align: middle;\n",
       "    }\n",
       "\n",
       "    .dataframe tbody tr th {\n",
       "        vertical-align: top;\n",
       "    }\n",
       "\n",
       "    .dataframe thead th {\n",
       "        text-align: right;\n",
       "    }\n",
       "</style>\n",
       "<table border=\"1\" class=\"dataframe\">\n",
       "  <thead>\n",
       "    <tr style=\"text-align: right;\">\n",
       "      <th></th>\n",
       "      <th>year</th>\n",
       "      <th>gender</th>\n",
       "      <th>heightInches</th>\n",
       "      <th>happiness</th>\n",
       "      <th>stressed</th>\n",
       "      <th>sleepPerNight</th>\n",
       "      <th>socialDinnerPerWeek</th>\n",
       "      <th>alcoholDrinksPerWeek</th>\n",
       "      <th>caffeineRating</th>\n",
       "      <th>affiliated</th>\n",
       "      <th>numOfLanguages</th>\n",
       "      <th>gymPerWeek</th>\n",
       "      <th>hoursOnScreen</th>\n",
       "      <th>phoneType</th>\n",
       "    </tr>\n",
       "  </thead>\n",
       "  <tbody>\n",
       "    <tr>\n",
       "      <td>0</td>\n",
       "      <td>'19</td>\n",
       "      <td>Female</td>\n",
       "      <td>63.0</td>\n",
       "      <td>4</td>\n",
       "      <td>2</td>\n",
       "      <td>7</td>\n",
       "      <td>3.0</td>\n",
       "      <td>4.0</td>\n",
       "      <td>1</td>\n",
       "      <td>1</td>\n",
       "      <td>2</td>\n",
       "      <td>3.0</td>\n",
       "      <td>6.0</td>\n",
       "      <td>iOS</td>\n",
       "    </tr>\n",
       "    <tr>\n",
       "      <td>1</td>\n",
       "      <td>'19</td>\n",
       "      <td>Male</td>\n",
       "      <td>71.0</td>\n",
       "      <td>4</td>\n",
       "      <td>5</td>\n",
       "      <td>7</td>\n",
       "      <td>3.0</td>\n",
       "      <td>8.0</td>\n",
       "      <td>6</td>\n",
       "      <td>1</td>\n",
       "      <td>2</td>\n",
       "      <td>4.0</td>\n",
       "      <td>6.0</td>\n",
       "      <td>iOS</td>\n",
       "    </tr>\n",
       "    <tr>\n",
       "      <td>2</td>\n",
       "      <td>'19</td>\n",
       "      <td>Female</td>\n",
       "      <td>63.0</td>\n",
       "      <td>4</td>\n",
       "      <td>4</td>\n",
       "      <td>7</td>\n",
       "      <td>3.0</td>\n",
       "      <td>2.0</td>\n",
       "      <td>1</td>\n",
       "      <td>1</td>\n",
       "      <td>1</td>\n",
       "      <td>0.0</td>\n",
       "      <td>9.0</td>\n",
       "      <td>Other</td>\n",
       "    </tr>\n",
       "    <tr>\n",
       "      <td>3</td>\n",
       "      <td>'19</td>\n",
       "      <td>Male</td>\n",
       "      <td>70.0</td>\n",
       "      <td>4</td>\n",
       "      <td>5</td>\n",
       "      <td>7</td>\n",
       "      <td>7.0</td>\n",
       "      <td>7.0</td>\n",
       "      <td>8</td>\n",
       "      <td>1</td>\n",
       "      <td>1</td>\n",
       "      <td>3.0</td>\n",
       "      <td>7.0</td>\n",
       "      <td>Android</td>\n",
       "    </tr>\n",
       "    <tr>\n",
       "      <td>4</td>\n",
       "      <td>'19</td>\n",
       "      <td>Male</td>\n",
       "      <td>70.0</td>\n",
       "      <td>4</td>\n",
       "      <td>8</td>\n",
       "      <td>7</td>\n",
       "      <td>3.0</td>\n",
       "      <td>3.0</td>\n",
       "      <td>3</td>\n",
       "      <td>1</td>\n",
       "      <td>2</td>\n",
       "      <td>5.0</td>\n",
       "      <td>6.0</td>\n",
       "      <td>iOS</td>\n",
       "    </tr>\n",
       "    <tr>\n",
       "      <td>...</td>\n",
       "      <td>...</td>\n",
       "      <td>...</td>\n",
       "      <td>...</td>\n",
       "      <td>...</td>\n",
       "      <td>...</td>\n",
       "      <td>...</td>\n",
       "      <td>...</td>\n",
       "      <td>...</td>\n",
       "      <td>...</td>\n",
       "      <td>...</td>\n",
       "      <td>...</td>\n",
       "      <td>...</td>\n",
       "      <td>...</td>\n",
       "      <td>...</td>\n",
       "    </tr>\n",
       "    <tr>\n",
       "      <td>61</td>\n",
       "      <td>'22</td>\n",
       "      <td>Female</td>\n",
       "      <td>63.0</td>\n",
       "      <td>3</td>\n",
       "      <td>5</td>\n",
       "      <td>7</td>\n",
       "      <td>2.0</td>\n",
       "      <td>1.0</td>\n",
       "      <td>5</td>\n",
       "      <td>0</td>\n",
       "      <td>3</td>\n",
       "      <td>0.0</td>\n",
       "      <td>8.0</td>\n",
       "      <td>iOS</td>\n",
       "    </tr>\n",
       "    <tr>\n",
       "      <td>62</td>\n",
       "      <td>'22</td>\n",
       "      <td>Male</td>\n",
       "      <td>71.0</td>\n",
       "      <td>4</td>\n",
       "      <td>8</td>\n",
       "      <td>7</td>\n",
       "      <td>2.0</td>\n",
       "      <td>5.0</td>\n",
       "      <td>1</td>\n",
       "      <td>0</td>\n",
       "      <td>1</td>\n",
       "      <td>2.0</td>\n",
       "      <td>7.0</td>\n",
       "      <td>iOS</td>\n",
       "    </tr>\n",
       "    <tr>\n",
       "      <td>63</td>\n",
       "      <td>'22</td>\n",
       "      <td>Female</td>\n",
       "      <td>63.0</td>\n",
       "      <td>3</td>\n",
       "      <td>7</td>\n",
       "      <td>6</td>\n",
       "      <td>3.0</td>\n",
       "      <td>8.0</td>\n",
       "      <td>8</td>\n",
       "      <td>0</td>\n",
       "      <td>2</td>\n",
       "      <td>6.0</td>\n",
       "      <td>7.0</td>\n",
       "      <td>iOS</td>\n",
       "    </tr>\n",
       "    <tr>\n",
       "      <td>64</td>\n",
       "      <td>'22</td>\n",
       "      <td>Female</td>\n",
       "      <td>63.0</td>\n",
       "      <td>5</td>\n",
       "      <td>7</td>\n",
       "      <td>8</td>\n",
       "      <td>5.0</td>\n",
       "      <td>2.0</td>\n",
       "      <td>9</td>\n",
       "      <td>0</td>\n",
       "      <td>2</td>\n",
       "      <td>5.0</td>\n",
       "      <td>10.0</td>\n",
       "      <td>iOS</td>\n",
       "    </tr>\n",
       "    <tr>\n",
       "      <td>65</td>\n",
       "      <td>'22</td>\n",
       "      <td>Male</td>\n",
       "      <td>70.0</td>\n",
       "      <td>4</td>\n",
       "      <td>6</td>\n",
       "      <td>5</td>\n",
       "      <td>2.0</td>\n",
       "      <td>NaN</td>\n",
       "      <td>10</td>\n",
       "      <td>0</td>\n",
       "      <td>2</td>\n",
       "      <td>3.0</td>\n",
       "      <td>10.0</td>\n",
       "      <td>iOS</td>\n",
       "    </tr>\n",
       "  </tbody>\n",
       "</table>\n",
       "<p>66 rows × 14 columns</p>\n",
       "</div>"
      ],
      "text/plain": [
       "   year  gender  heightInches  happiness  stressed  sleepPerNight  \\\n",
       "0   '19  Female          63.0          4         2              7   \n",
       "1   '19    Male          71.0          4         5              7   \n",
       "2   '19  Female          63.0          4         4              7   \n",
       "3   '19    Male          70.0          4         5              7   \n",
       "4   '19    Male          70.0          4         8              7   \n",
       "..  ...     ...           ...        ...       ...            ...   \n",
       "61  '22  Female          63.0          3         5              7   \n",
       "62  '22    Male          71.0          4         8              7   \n",
       "63  '22  Female          63.0          3         7              6   \n",
       "64  '22  Female          63.0          5         7              8   \n",
       "65  '22    Male          70.0          4         6              5   \n",
       "\n",
       "    socialDinnerPerWeek  alcoholDrinksPerWeek  caffeineRating  affiliated  \\\n",
       "0                   3.0                   4.0               1           1   \n",
       "1                   3.0                   8.0               6           1   \n",
       "2                   3.0                   2.0               1           1   \n",
       "3                   7.0                   7.0               8           1   \n",
       "4                   3.0                   3.0               3           1   \n",
       "..                  ...                   ...             ...         ...   \n",
       "61                  2.0                   1.0               5           0   \n",
       "62                  2.0                   5.0               1           0   \n",
       "63                  3.0                   8.0               8           0   \n",
       "64                  5.0                   2.0               9           0   \n",
       "65                  2.0                   NaN              10           0   \n",
       "\n",
       "    numOfLanguages  gymPerWeek  hoursOnScreen phoneType  \n",
       "0                2         3.0            6.0       iOS  \n",
       "1                2         4.0            6.0       iOS  \n",
       "2                1         0.0            9.0     Other  \n",
       "3                1         3.0            7.0   Android  \n",
       "4                2         5.0            6.0       iOS  \n",
       "..             ...         ...            ...       ...  \n",
       "61               3         0.0            8.0       iOS  \n",
       "62               1         2.0            7.0       iOS  \n",
       "63               2         6.0            7.0       iOS  \n",
       "64               2         5.0           10.0       iOS  \n",
       "65               2         3.0           10.0       iOS  \n",
       "\n",
       "[66 rows x 14 columns]"
      ]
     },
     "execution_count": 2,
     "metadata": {},
     "output_type": "execute_result"
    }
   ],
   "source": [
    "# convert json to Pandas dataframe\n",
    "df = pd.read_json('DALI_Data-Anon.json')\n",
    "df"
   ]
  },
  {
   "cell_type": "markdown",
   "metadata": {},
   "source": [
    "Let's see what our missing data looking like"
   ]
  },
  {
   "cell_type": "code",
   "execution_count": 3,
   "metadata": {},
   "outputs": [
    {
     "data": {
      "text/html": [
       "<div>\n",
       "<style scoped>\n",
       "    .dataframe tbody tr th:only-of-type {\n",
       "        vertical-align: middle;\n",
       "    }\n",
       "\n",
       "    .dataframe tbody tr th {\n",
       "        vertical-align: top;\n",
       "    }\n",
       "\n",
       "    .dataframe thead th {\n",
       "        text-align: right;\n",
       "    }\n",
       "</style>\n",
       "<table border=\"1\" class=\"dataframe\">\n",
       "  <thead>\n",
       "    <tr style=\"text-align: right;\">\n",
       "      <th></th>\n",
       "      <th>Total</th>\n",
       "      <th>%</th>\n",
       "    </tr>\n",
       "  </thead>\n",
       "  <tbody>\n",
       "    <tr>\n",
       "      <td>alcoholDrinksPerWeek</td>\n",
       "      <td>3</td>\n",
       "      <td>4.5</td>\n",
       "    </tr>\n",
       "    <tr>\n",
       "      <td>hoursOnScreen</td>\n",
       "      <td>1</td>\n",
       "      <td>1.5</td>\n",
       "    </tr>\n",
       "    <tr>\n",
       "      <td>gymPerWeek</td>\n",
       "      <td>1</td>\n",
       "      <td>1.5</td>\n",
       "    </tr>\n",
       "    <tr>\n",
       "      <td>socialDinnerPerWeek</td>\n",
       "      <td>1</td>\n",
       "      <td>1.5</td>\n",
       "    </tr>\n",
       "    <tr>\n",
       "      <td>heightInches</td>\n",
       "      <td>1</td>\n",
       "      <td>1.5</td>\n",
       "    </tr>\n",
       "  </tbody>\n",
       "</table>\n",
       "</div>"
      ],
      "text/plain": [
       "                      Total    %\n",
       "alcoholDrinksPerWeek      3  4.5\n",
       "hoursOnScreen             1  1.5\n",
       "gymPerWeek                1  1.5\n",
       "socialDinnerPerWeek       1  1.5\n",
       "heightInches              1  1.5"
      ]
     },
     "execution_count": 3,
     "metadata": {},
     "output_type": "execute_result"
    }
   ],
   "source": [
    "total = df.isnull().sum().sort_values(ascending=False)\n",
    "percent_1 = df.isnull().sum()/df.isnull().count()*100\n",
    "percent_2 = (round(percent_1, 1)).sort_values(ascending=False)\n",
    "missing_data = pd.concat([total, percent_2], axis=1, keys=['Total', '%'])\n",
    "missing_data.head(5)"
   ]
  },
  {
   "cell_type": "markdown",
   "metadata": {},
   "source": [
    "Because only a few rows have nans, just drop them"
   ]
  },
  {
   "cell_type": "code",
   "execution_count": 4,
   "metadata": {},
   "outputs": [
    {
     "data": {
      "text/html": [
       "<div>\n",
       "<style scoped>\n",
       "    .dataframe tbody tr th:only-of-type {\n",
       "        vertical-align: middle;\n",
       "    }\n",
       "\n",
       "    .dataframe tbody tr th {\n",
       "        vertical-align: top;\n",
       "    }\n",
       "\n",
       "    .dataframe thead th {\n",
       "        text-align: right;\n",
       "    }\n",
       "</style>\n",
       "<table border=\"1\" class=\"dataframe\">\n",
       "  <thead>\n",
       "    <tr style=\"text-align: right;\">\n",
       "      <th></th>\n",
       "      <th>heightInches</th>\n",
       "      <th>happiness</th>\n",
       "      <th>stressed</th>\n",
       "      <th>sleepPerNight</th>\n",
       "      <th>socialDinnerPerWeek</th>\n",
       "      <th>alcoholDrinksPerWeek</th>\n",
       "      <th>caffeineRating</th>\n",
       "      <th>affiliated</th>\n",
       "      <th>numOfLanguages</th>\n",
       "      <th>gymPerWeek</th>\n",
       "      <th>hoursOnScreen</th>\n",
       "    </tr>\n",
       "  </thead>\n",
       "  <tbody>\n",
       "    <tr>\n",
       "      <td>0</td>\n",
       "      <td>63.0</td>\n",
       "      <td>4</td>\n",
       "      <td>2</td>\n",
       "      <td>7</td>\n",
       "      <td>3.0</td>\n",
       "      <td>4.0</td>\n",
       "      <td>1</td>\n",
       "      <td>1</td>\n",
       "      <td>2</td>\n",
       "      <td>3.0</td>\n",
       "      <td>6.0</td>\n",
       "    </tr>\n",
       "    <tr>\n",
       "      <td>1</td>\n",
       "      <td>71.0</td>\n",
       "      <td>4</td>\n",
       "      <td>5</td>\n",
       "      <td>7</td>\n",
       "      <td>3.0</td>\n",
       "      <td>8.0</td>\n",
       "      <td>6</td>\n",
       "      <td>1</td>\n",
       "      <td>2</td>\n",
       "      <td>4.0</td>\n",
       "      <td>6.0</td>\n",
       "    </tr>\n",
       "    <tr>\n",
       "      <td>2</td>\n",
       "      <td>63.0</td>\n",
       "      <td>4</td>\n",
       "      <td>4</td>\n",
       "      <td>7</td>\n",
       "      <td>3.0</td>\n",
       "      <td>2.0</td>\n",
       "      <td>1</td>\n",
       "      <td>1</td>\n",
       "      <td>1</td>\n",
       "      <td>0.0</td>\n",
       "      <td>9.0</td>\n",
       "    </tr>\n",
       "    <tr>\n",
       "      <td>3</td>\n",
       "      <td>70.0</td>\n",
       "      <td>4</td>\n",
       "      <td>5</td>\n",
       "      <td>7</td>\n",
       "      <td>7.0</td>\n",
       "      <td>7.0</td>\n",
       "      <td>8</td>\n",
       "      <td>1</td>\n",
       "      <td>1</td>\n",
       "      <td>3.0</td>\n",
       "      <td>7.0</td>\n",
       "    </tr>\n",
       "    <tr>\n",
       "      <td>4</td>\n",
       "      <td>70.0</td>\n",
       "      <td>4</td>\n",
       "      <td>8</td>\n",
       "      <td>7</td>\n",
       "      <td>3.0</td>\n",
       "      <td>3.0</td>\n",
       "      <td>3</td>\n",
       "      <td>1</td>\n",
       "      <td>2</td>\n",
       "      <td>5.0</td>\n",
       "      <td>6.0</td>\n",
       "    </tr>\n",
       "  </tbody>\n",
       "</table>\n",
       "</div>"
      ],
      "text/plain": [
       "   heightInches  happiness  stressed  sleepPerNight  socialDinnerPerWeek  \\\n",
       "0          63.0          4         2              7                  3.0   \n",
       "1          71.0          4         5              7                  3.0   \n",
       "2          63.0          4         4              7                  3.0   \n",
       "3          70.0          4         5              7                  7.0   \n",
       "4          70.0          4         8              7                  3.0   \n",
       "\n",
       "   alcoholDrinksPerWeek  caffeineRating  affiliated  numOfLanguages  \\\n",
       "0                   4.0               1           1               2   \n",
       "1                   8.0               6           1               2   \n",
       "2                   2.0               1           1               1   \n",
       "3                   7.0               8           1               1   \n",
       "4                   3.0               3           1               2   \n",
       "\n",
       "   gymPerWeek  hoursOnScreen  \n",
       "0         3.0            6.0  \n",
       "1         4.0            6.0  \n",
       "2         0.0            9.0  \n",
       "3         3.0            7.0  \n",
       "4         5.0            6.0  "
      ]
     },
     "execution_count": 4,
     "metadata": {},
     "output_type": "execute_result"
    }
   ],
   "source": [
    "# drop categorical data and na # drop na because only a few rows are nan\n",
    "df = df._get_numeric_data().dropna() \n",
    "df.head(5)"
   ]
  },
  {
   "cell_type": "code",
   "execution_count": 5,
   "metadata": {
    "scrolled": true
   },
   "outputs": [
    {
     "data": {
      "text/html": [
       "<div>\n",
       "<style scoped>\n",
       "    .dataframe tbody tr th:only-of-type {\n",
       "        vertical-align: middle;\n",
       "    }\n",
       "\n",
       "    .dataframe tbody tr th {\n",
       "        vertical-align: top;\n",
       "    }\n",
       "\n",
       "    .dataframe thead th {\n",
       "        text-align: right;\n",
       "    }\n",
       "</style>\n",
       "<table border=\"1\" class=\"dataframe\">\n",
       "  <thead>\n",
       "    <tr style=\"text-align: right;\">\n",
       "      <th></th>\n",
       "      <th>heightInches</th>\n",
       "      <th>happiness</th>\n",
       "      <th>stressed</th>\n",
       "      <th>sleepPerNight</th>\n",
       "      <th>socialDinnerPerWeek</th>\n",
       "      <th>alcoholDrinksPerWeek</th>\n",
       "      <th>caffeineRating</th>\n",
       "      <th>affiliated</th>\n",
       "      <th>numOfLanguages</th>\n",
       "      <th>gymPerWeek</th>\n",
       "      <th>hoursOnScreen</th>\n",
       "    </tr>\n",
       "  </thead>\n",
       "  <tbody>\n",
       "    <tr>\n",
       "      <td>count</td>\n",
       "      <td>62.000000</td>\n",
       "      <td>62.000000</td>\n",
       "      <td>62.000000</td>\n",
       "      <td>62.000000</td>\n",
       "      <td>62.000000</td>\n",
       "      <td>62.000000</td>\n",
       "      <td>62.000000</td>\n",
       "      <td>62.000000</td>\n",
       "      <td>62.000000</td>\n",
       "      <td>62.000000</td>\n",
       "      <td>62.000000</td>\n",
       "    </tr>\n",
       "    <tr>\n",
       "      <td>mean</td>\n",
       "      <td>66.112903</td>\n",
       "      <td>3.919355</td>\n",
       "      <td>5.322581</td>\n",
       "      <td>6.935484</td>\n",
       "      <td>3.967742</td>\n",
       "      <td>4.435484</td>\n",
       "      <td>4.129032</td>\n",
       "      <td>0.596774</td>\n",
       "      <td>1.838710</td>\n",
       "      <td>3.209677</td>\n",
       "      <td>7.258065</td>\n",
       "    </tr>\n",
       "    <tr>\n",
       "      <td>std</td>\n",
       "      <td>2.897737</td>\n",
       "      <td>0.731008</td>\n",
       "      <td>2.148382</td>\n",
       "      <td>0.865949</td>\n",
       "      <td>1.907429</td>\n",
       "      <td>3.637784</td>\n",
       "      <td>3.048697</td>\n",
       "      <td>0.494550</td>\n",
       "      <td>0.853028</td>\n",
       "      <td>1.951352</td>\n",
       "      <td>2.408560</td>\n",
       "    </tr>\n",
       "    <tr>\n",
       "      <td>min</td>\n",
       "      <td>61.000000</td>\n",
       "      <td>2.000000</td>\n",
       "      <td>1.000000</td>\n",
       "      <td>4.000000</td>\n",
       "      <td>0.000000</td>\n",
       "      <td>0.000000</td>\n",
       "      <td>1.000000</td>\n",
       "      <td>0.000000</td>\n",
       "      <td>1.000000</td>\n",
       "      <td>0.000000</td>\n",
       "      <td>3.000000</td>\n",
       "    </tr>\n",
       "    <tr>\n",
       "      <td>25%</td>\n",
       "      <td>64.000000</td>\n",
       "      <td>4.000000</td>\n",
       "      <td>3.250000</td>\n",
       "      <td>6.000000</td>\n",
       "      <td>3.000000</td>\n",
       "      <td>2.000000</td>\n",
       "      <td>1.000000</td>\n",
       "      <td>0.000000</td>\n",
       "      <td>1.000000</td>\n",
       "      <td>2.000000</td>\n",
       "      <td>6.000000</td>\n",
       "    </tr>\n",
       "    <tr>\n",
       "      <td>50%</td>\n",
       "      <td>65.500000</td>\n",
       "      <td>4.000000</td>\n",
       "      <td>6.000000</td>\n",
       "      <td>7.000000</td>\n",
       "      <td>4.000000</td>\n",
       "      <td>4.000000</td>\n",
       "      <td>3.000000</td>\n",
       "      <td>1.000000</td>\n",
       "      <td>2.000000</td>\n",
       "      <td>3.000000</td>\n",
       "      <td>7.000000</td>\n",
       "    </tr>\n",
       "    <tr>\n",
       "      <td>75%</td>\n",
       "      <td>68.000000</td>\n",
       "      <td>4.000000</td>\n",
       "      <td>7.000000</td>\n",
       "      <td>7.000000</td>\n",
       "      <td>5.000000</td>\n",
       "      <td>6.750000</td>\n",
       "      <td>6.000000</td>\n",
       "      <td>1.000000</td>\n",
       "      <td>2.000000</td>\n",
       "      <td>5.000000</td>\n",
       "      <td>8.000000</td>\n",
       "    </tr>\n",
       "    <tr>\n",
       "      <td>max</td>\n",
       "      <td>72.000000</td>\n",
       "      <td>5.000000</td>\n",
       "      <td>10.000000</td>\n",
       "      <td>9.000000</td>\n",
       "      <td>7.000000</td>\n",
       "      <td>15.000000</td>\n",
       "      <td>10.000000</td>\n",
       "      <td>1.000000</td>\n",
       "      <td>4.000000</td>\n",
       "      <td>7.000000</td>\n",
       "      <td>15.000000</td>\n",
       "    </tr>\n",
       "  </tbody>\n",
       "</table>\n",
       "</div>"
      ],
      "text/plain": [
       "       heightInches  happiness   stressed  sleepPerNight  socialDinnerPerWeek  \\\n",
       "count     62.000000  62.000000  62.000000      62.000000            62.000000   \n",
       "mean      66.112903   3.919355   5.322581       6.935484             3.967742   \n",
       "std        2.897737   0.731008   2.148382       0.865949             1.907429   \n",
       "min       61.000000   2.000000   1.000000       4.000000             0.000000   \n",
       "25%       64.000000   4.000000   3.250000       6.000000             3.000000   \n",
       "50%       65.500000   4.000000   6.000000       7.000000             4.000000   \n",
       "75%       68.000000   4.000000   7.000000       7.000000             5.000000   \n",
       "max       72.000000   5.000000  10.000000       9.000000             7.000000   \n",
       "\n",
       "       alcoholDrinksPerWeek  caffeineRating  affiliated  numOfLanguages  \\\n",
       "count             62.000000       62.000000   62.000000       62.000000   \n",
       "mean               4.435484        4.129032    0.596774        1.838710   \n",
       "std                3.637784        3.048697    0.494550        0.853028   \n",
       "min                0.000000        1.000000    0.000000        1.000000   \n",
       "25%                2.000000        1.000000    0.000000        1.000000   \n",
       "50%                4.000000        3.000000    1.000000        2.000000   \n",
       "75%                6.750000        6.000000    1.000000        2.000000   \n",
       "max               15.000000       10.000000    1.000000        4.000000   \n",
       "\n",
       "       gymPerWeek  hoursOnScreen  \n",
       "count   62.000000      62.000000  \n",
       "mean     3.209677       7.258065  \n",
       "std      1.951352       2.408560  \n",
       "min      0.000000       3.000000  \n",
       "25%      2.000000       6.000000  \n",
       "50%      3.000000       7.000000  \n",
       "75%      5.000000       8.000000  \n",
       "max      7.000000      15.000000  "
      ]
     },
     "execution_count": 5,
     "metadata": {},
     "output_type": "execute_result"
    }
   ],
   "source": [
    "df.describe()"
   ]
  },
  {
   "cell_type": "markdown",
   "metadata": {},
   "source": [
    "Looks like we have 11 numerical features and 62 data points. We also get a good idea of the ranges for each feature"
   ]
  },
  {
   "cell_type": "code",
   "execution_count": 6,
   "metadata": {},
   "outputs": [
    {
     "data": {
      "text/html": [
       "<style  type=\"text/css\" >\n",
       "    #T_c263498e_56a6_11ea_95cb_acde48001122row0_col0 {\n",
       "            background-color:  #4479bb;\n",
       "            color:  #000000;\n",
       "        }    #T_c263498e_56a6_11ea_95cb_acde48001122row0_col1 {\n",
       "            background-color:  #eeacba;\n",
       "            color:  #000000;\n",
       "        }    #T_c263498e_56a6_11ea_95cb_acde48001122row0_col2 {\n",
       "            background-color:  #e58195;\n",
       "            color:  #000000;\n",
       "        }    #T_c263498e_56a6_11ea_95cb_acde48001122row0_col3 {\n",
       "            background-color:  #e88d9f;\n",
       "            color:  #000000;\n",
       "        }    #T_c263498e_56a6_11ea_95cb_acde48001122row0_col4 {\n",
       "            background-color:  #e47c91;\n",
       "            color:  #000000;\n",
       "        }    #T_c263498e_56a6_11ea_95cb_acde48001122row0_col5 {\n",
       "            background-color:  #f1b9c4;\n",
       "            color:  #000000;\n",
       "        }    #T_c263498e_56a6_11ea_95cb_acde48001122row0_col6 {\n",
       "            background-color:  #e16d85;\n",
       "            color:  #000000;\n",
       "        }    #T_c263498e_56a6_11ea_95cb_acde48001122row0_col7 {\n",
       "            background-color:  #e78a9d;\n",
       "            color:  #000000;\n",
       "        }    #T_c263498e_56a6_11ea_95cb_acde48001122row0_col8 {\n",
       "            background-color:  #eb9ead;\n",
       "            color:  #000000;\n",
       "        }    #T_c263498e_56a6_11ea_95cb_acde48001122row0_col9 {\n",
       "            background-color:  #e88ea0;\n",
       "            color:  #000000;\n",
       "        }    #T_c263498e_56a6_11ea_95cb_acde48001122row0_col10 {\n",
       "            background-color:  #ea97a8;\n",
       "            color:  #000000;\n",
       "        }    #T_c263498e_56a6_11ea_95cb_acde48001122row1_col0 {\n",
       "            background-color:  #eeacba;\n",
       "            color:  #000000;\n",
       "        }    #T_c263498e_56a6_11ea_95cb_acde48001122row1_col1 {\n",
       "            background-color:  #4479bb;\n",
       "            color:  #000000;\n",
       "        }    #T_c263498e_56a6_11ea_95cb_acde48001122row1_col2 {\n",
       "            background-color:  #d73c5b;\n",
       "            color:  #f1f1f1;\n",
       "        }    #T_c263498e_56a6_11ea_95cb_acde48001122row1_col3 {\n",
       "            background-color:  #eb9bab;\n",
       "            color:  #000000;\n",
       "        }    #T_c263498e_56a6_11ea_95cb_acde48001122row1_col4 {\n",
       "            background-color:  #eeacba;\n",
       "            color:  #000000;\n",
       "        }    #T_c263498e_56a6_11ea_95cb_acde48001122row1_col5 {\n",
       "            background-color:  #e16b82;\n",
       "            color:  #000000;\n",
       "        }    #T_c263498e_56a6_11ea_95cb_acde48001122row1_col6 {\n",
       "            background-color:  #f3c2cc;\n",
       "            color:  #000000;\n",
       "        }    #T_c263498e_56a6_11ea_95cb_acde48001122row1_col7 {\n",
       "            background-color:  #e06880;\n",
       "            color:  #000000;\n",
       "        }    #T_c263498e_56a6_11ea_95cb_acde48001122row1_col8 {\n",
       "            background-color:  #ea97a8;\n",
       "            color:  #000000;\n",
       "        }    #T_c263498e_56a6_11ea_95cb_acde48001122row1_col9 {\n",
       "            background-color:  #efafbc;\n",
       "            color:  #000000;\n",
       "        }    #T_c263498e_56a6_11ea_95cb_acde48001122row1_col10 {\n",
       "            background-color:  #e78a9d;\n",
       "            color:  #000000;\n",
       "        }    #T_c263498e_56a6_11ea_95cb_acde48001122row2_col0 {\n",
       "            background-color:  #e58195;\n",
       "            color:  #000000;\n",
       "        }    #T_c263498e_56a6_11ea_95cb_acde48001122row2_col1 {\n",
       "            background-color:  #d73c5b;\n",
       "            color:  #f1f1f1;\n",
       "        }    #T_c263498e_56a6_11ea_95cb_acde48001122row2_col2 {\n",
       "            background-color:  #4479bb;\n",
       "            color:  #000000;\n",
       "        }    #T_c263498e_56a6_11ea_95cb_acde48001122row2_col3 {\n",
       "            background-color:  #e0657d;\n",
       "            color:  #000000;\n",
       "        }    #T_c263498e_56a6_11ea_95cb_acde48001122row2_col4 {\n",
       "            background-color:  #ec9faf;\n",
       "            color:  #000000;\n",
       "        }    #T_c263498e_56a6_11ea_95cb_acde48001122row2_col5 {\n",
       "            background-color:  #f0b5c1;\n",
       "            color:  #000000;\n",
       "        }    #T_c263498e_56a6_11ea_95cb_acde48001122row2_col6 {\n",
       "            background-color:  #e78a9d;\n",
       "            color:  #000000;\n",
       "        }    #T_c263498e_56a6_11ea_95cb_acde48001122row2_col7 {\n",
       "            background-color:  #ea97a8;\n",
       "            color:  #000000;\n",
       "        }    #T_c263498e_56a6_11ea_95cb_acde48001122row2_col8 {\n",
       "            background-color:  #e3768c;\n",
       "            color:  #000000;\n",
       "        }    #T_c263498e_56a6_11ea_95cb_acde48001122row2_col9 {\n",
       "            background-color:  #ea97a8;\n",
       "            color:  #000000;\n",
       "        }    #T_c263498e_56a6_11ea_95cb_acde48001122row2_col10 {\n",
       "            background-color:  #d83e5d;\n",
       "            color:  #f1f1f1;\n",
       "        }    #T_c263498e_56a6_11ea_95cb_acde48001122row3_col0 {\n",
       "            background-color:  #e88d9f;\n",
       "            color:  #000000;\n",
       "        }    #T_c263498e_56a6_11ea_95cb_acde48001122row3_col1 {\n",
       "            background-color:  #eb9bab;\n",
       "            color:  #000000;\n",
       "        }    #T_c263498e_56a6_11ea_95cb_acde48001122row3_col2 {\n",
       "            background-color:  #e0657d;\n",
       "            color:  #000000;\n",
       "        }    #T_c263498e_56a6_11ea_95cb_acde48001122row3_col3 {\n",
       "            background-color:  #4479bb;\n",
       "            color:  #000000;\n",
       "        }    #T_c263498e_56a6_11ea_95cb_acde48001122row3_col4 {\n",
       "            background-color:  #e7899c;\n",
       "            color:  #000000;\n",
       "        }    #T_c263498e_56a6_11ea_95cb_acde48001122row3_col5 {\n",
       "            background-color:  #e26f86;\n",
       "            color:  #000000;\n",
       "        }    #T_c263498e_56a6_11ea_95cb_acde48001122row3_col6 {\n",
       "            background-color:  #df617a;\n",
       "            color:  #000000;\n",
       "        }    #T_c263498e_56a6_11ea_95cb_acde48001122row3_col7 {\n",
       "            background-color:  #e993a4;\n",
       "            color:  #000000;\n",
       "        }    #T_c263498e_56a6_11ea_95cb_acde48001122row3_col8 {\n",
       "            background-color:  #e57d92;\n",
       "            color:  #000000;\n",
       "        }    #T_c263498e_56a6_11ea_95cb_acde48001122row3_col9 {\n",
       "            background-color:  #e3748a;\n",
       "            color:  #000000;\n",
       "        }    #T_c263498e_56a6_11ea_95cb_acde48001122row3_col10 {\n",
       "            background-color:  #de5f79;\n",
       "            color:  #000000;\n",
       "        }    #T_c263498e_56a6_11ea_95cb_acde48001122row4_col0 {\n",
       "            background-color:  #e47c91;\n",
       "            color:  #000000;\n",
       "        }    #T_c263498e_56a6_11ea_95cb_acde48001122row4_col1 {\n",
       "            background-color:  #eeacba;\n",
       "            color:  #000000;\n",
       "        }    #T_c263498e_56a6_11ea_95cb_acde48001122row4_col2 {\n",
       "            background-color:  #ec9faf;\n",
       "            color:  #000000;\n",
       "        }    #T_c263498e_56a6_11ea_95cb_acde48001122row4_col3 {\n",
       "            background-color:  #e7899c;\n",
       "            color:  #000000;\n",
       "        }    #T_c263498e_56a6_11ea_95cb_acde48001122row4_col4 {\n",
       "            background-color:  #4479bb;\n",
       "            color:  #000000;\n",
       "        }    #T_c263498e_56a6_11ea_95cb_acde48001122row4_col5 {\n",
       "            background-color:  #d8e3f1;\n",
       "            color:  #000000;\n",
       "        }    #T_c263498e_56a6_11ea_95cb_acde48001122row4_col6 {\n",
       "            background-color:  #eca3b1;\n",
       "            color:  #000000;\n",
       "        }    #T_c263498e_56a6_11ea_95cb_acde48001122row4_col7 {\n",
       "            background-color:  #f6d5db;\n",
       "            color:  #000000;\n",
       "        }    #T_c263498e_56a6_11ea_95cb_acde48001122row4_col8 {\n",
       "            background-color:  #df617a;\n",
       "            color:  #000000;\n",
       "        }    #T_c263498e_56a6_11ea_95cb_acde48001122row4_col9 {\n",
       "            background-color:  #e890a1;\n",
       "            color:  #000000;\n",
       "        }    #T_c263498e_56a6_11ea_95cb_acde48001122row4_col10 {\n",
       "            background-color:  #de5e77;\n",
       "            color:  #000000;\n",
       "        }    #T_c263498e_56a6_11ea_95cb_acde48001122row5_col0 {\n",
       "            background-color:  #f1b9c4;\n",
       "            color:  #000000;\n",
       "        }    #T_c263498e_56a6_11ea_95cb_acde48001122row5_col1 {\n",
       "            background-color:  #e16b82;\n",
       "            color:  #000000;\n",
       "        }    #T_c263498e_56a6_11ea_95cb_acde48001122row5_col2 {\n",
       "            background-color:  #f0b5c1;\n",
       "            color:  #000000;\n",
       "        }    #T_c263498e_56a6_11ea_95cb_acde48001122row5_col3 {\n",
       "            background-color:  #e26f86;\n",
       "            color:  #000000;\n",
       "        }    #T_c263498e_56a6_11ea_95cb_acde48001122row5_col4 {\n",
       "            background-color:  #d8e3f1;\n",
       "            color:  #000000;\n",
       "        }    #T_c263498e_56a6_11ea_95cb_acde48001122row5_col5 {\n",
       "            background-color:  #4479bb;\n",
       "            color:  #000000;\n",
       "        }    #T_c263498e_56a6_11ea_95cb_acde48001122row5_col6 {\n",
       "            background-color:  #e88d9f;\n",
       "            color:  #000000;\n",
       "        }    #T_c263498e_56a6_11ea_95cb_acde48001122row5_col7 {\n",
       "            background-color:  #eaf0f7;\n",
       "            color:  #000000;\n",
       "        }    #T_c263498e_56a6_11ea_95cb_acde48001122row5_col8 {\n",
       "            background-color:  #da4b68;\n",
       "            color:  #000000;\n",
       "        }    #T_c263498e_56a6_11ea_95cb_acde48001122row5_col9 {\n",
       "            background-color:  #f1bcc7;\n",
       "            color:  #000000;\n",
       "        }    #T_c263498e_56a6_11ea_95cb_acde48001122row5_col10 {\n",
       "            background-color:  #e58094;\n",
       "            color:  #000000;\n",
       "        }    #T_c263498e_56a6_11ea_95cb_acde48001122row6_col0 {\n",
       "            background-color:  #e16d85;\n",
       "            color:  #000000;\n",
       "        }    #T_c263498e_56a6_11ea_95cb_acde48001122row6_col1 {\n",
       "            background-color:  #f3c2cc;\n",
       "            color:  #000000;\n",
       "        }    #T_c263498e_56a6_11ea_95cb_acde48001122row6_col2 {\n",
       "            background-color:  #e78a9d;\n",
       "            color:  #000000;\n",
       "        }    #T_c263498e_56a6_11ea_95cb_acde48001122row6_col3 {\n",
       "            background-color:  #df617a;\n",
       "            color:  #000000;\n",
       "        }    #T_c263498e_56a6_11ea_95cb_acde48001122row6_col4 {\n",
       "            background-color:  #eca3b1;\n",
       "            color:  #000000;\n",
       "        }    #T_c263498e_56a6_11ea_95cb_acde48001122row6_col5 {\n",
       "            background-color:  #e88d9f;\n",
       "            color:  #000000;\n",
       "        }    #T_c263498e_56a6_11ea_95cb_acde48001122row6_col6 {\n",
       "            background-color:  #4479bb;\n",
       "            color:  #000000;\n",
       "        }    #T_c263498e_56a6_11ea_95cb_acde48001122row6_col7 {\n",
       "            background-color:  #e27087;\n",
       "            color:  #000000;\n",
       "        }    #T_c263498e_56a6_11ea_95cb_acde48001122row6_col8 {\n",
       "            background-color:  #f0b5c1;\n",
       "            color:  #000000;\n",
       "        }    #T_c263498e_56a6_11ea_95cb_acde48001122row6_col9 {\n",
       "            background-color:  #efb2bf;\n",
       "            color:  #000000;\n",
       "        }    #T_c263498e_56a6_11ea_95cb_acde48001122row6_col10 {\n",
       "            background-color:  #f1b9c4;\n",
       "            color:  #000000;\n",
       "        }    #T_c263498e_56a6_11ea_95cb_acde48001122row7_col0 {\n",
       "            background-color:  #e78a9d;\n",
       "            color:  #000000;\n",
       "        }    #T_c263498e_56a6_11ea_95cb_acde48001122row7_col1 {\n",
       "            background-color:  #e06880;\n",
       "            color:  #000000;\n",
       "        }    #T_c263498e_56a6_11ea_95cb_acde48001122row7_col2 {\n",
       "            background-color:  #ea97a8;\n",
       "            color:  #000000;\n",
       "        }    #T_c263498e_56a6_11ea_95cb_acde48001122row7_col3 {\n",
       "            background-color:  #e993a4;\n",
       "            color:  #000000;\n",
       "        }    #T_c263498e_56a6_11ea_95cb_acde48001122row7_col4 {\n",
       "            background-color:  #f6d5db;\n",
       "            color:  #000000;\n",
       "        }    #T_c263498e_56a6_11ea_95cb_acde48001122row7_col5 {\n",
       "            background-color:  #eaf0f7;\n",
       "            color:  #000000;\n",
       "        }    #T_c263498e_56a6_11ea_95cb_acde48001122row7_col6 {\n",
       "            background-color:  #e27087;\n",
       "            color:  #000000;\n",
       "        }    #T_c263498e_56a6_11ea_95cb_acde48001122row7_col7 {\n",
       "            background-color:  #4479bb;\n",
       "            color:  #000000;\n",
       "        }    #T_c263498e_56a6_11ea_95cb_acde48001122row7_col8 {\n",
       "            background-color:  #e16d85;\n",
       "            color:  #000000;\n",
       "        }    #T_c263498e_56a6_11ea_95cb_acde48001122row7_col9 {\n",
       "            background-color:  #e16d85;\n",
       "            color:  #000000;\n",
       "        }    #T_c263498e_56a6_11ea_95cb_acde48001122row7_col10 {\n",
       "            background-color:  #e16d85;\n",
       "            color:  #000000;\n",
       "        }    #T_c263498e_56a6_11ea_95cb_acde48001122row8_col0 {\n",
       "            background-color:  #eb9ead;\n",
       "            color:  #000000;\n",
       "        }    #T_c263498e_56a6_11ea_95cb_acde48001122row8_col1 {\n",
       "            background-color:  #ea97a8;\n",
       "            color:  #000000;\n",
       "        }    #T_c263498e_56a6_11ea_95cb_acde48001122row8_col2 {\n",
       "            background-color:  #e3768c;\n",
       "            color:  #000000;\n",
       "        }    #T_c263498e_56a6_11ea_95cb_acde48001122row8_col3 {\n",
       "            background-color:  #e57d92;\n",
       "            color:  #000000;\n",
       "        }    #T_c263498e_56a6_11ea_95cb_acde48001122row8_col4 {\n",
       "            background-color:  #df617a;\n",
       "            color:  #000000;\n",
       "        }    #T_c263498e_56a6_11ea_95cb_acde48001122row8_col5 {\n",
       "            background-color:  #da4b68;\n",
       "            color:  #000000;\n",
       "        }    #T_c263498e_56a6_11ea_95cb_acde48001122row8_col6 {\n",
       "            background-color:  #f0b5c1;\n",
       "            color:  #000000;\n",
       "        }    #T_c263498e_56a6_11ea_95cb_acde48001122row8_col7 {\n",
       "            background-color:  #e16d85;\n",
       "            color:  #000000;\n",
       "        }    #T_c263498e_56a6_11ea_95cb_acde48001122row8_col8 {\n",
       "            background-color:  #4479bb;\n",
       "            color:  #000000;\n",
       "        }    #T_c263498e_56a6_11ea_95cb_acde48001122row8_col9 {\n",
       "            background-color:  #e3768c;\n",
       "            color:  #000000;\n",
       "        }    #T_c263498e_56a6_11ea_95cb_acde48001122row8_col10 {\n",
       "            background-color:  #e7879b;\n",
       "            color:  #000000;\n",
       "        }    #T_c263498e_56a6_11ea_95cb_acde48001122row9_col0 {\n",
       "            background-color:  #e88ea0;\n",
       "            color:  #000000;\n",
       "        }    #T_c263498e_56a6_11ea_95cb_acde48001122row9_col1 {\n",
       "            background-color:  #efafbc;\n",
       "            color:  #000000;\n",
       "        }    #T_c263498e_56a6_11ea_95cb_acde48001122row9_col2 {\n",
       "            background-color:  #ea97a8;\n",
       "            color:  #000000;\n",
       "        }    #T_c263498e_56a6_11ea_95cb_acde48001122row9_col3 {\n",
       "            background-color:  #e3748a;\n",
       "            color:  #000000;\n",
       "        }    #T_c263498e_56a6_11ea_95cb_acde48001122row9_col4 {\n",
       "            background-color:  #e890a1;\n",
       "            color:  #000000;\n",
       "        }    #T_c263498e_56a6_11ea_95cb_acde48001122row9_col5 {\n",
       "            background-color:  #f1bcc7;\n",
       "            color:  #000000;\n",
       "        }    #T_c263498e_56a6_11ea_95cb_acde48001122row9_col6 {\n",
       "            background-color:  #efb2bf;\n",
       "            color:  #000000;\n",
       "        }    #T_c263498e_56a6_11ea_95cb_acde48001122row9_col7 {\n",
       "            background-color:  #e16d85;\n",
       "            color:  #000000;\n",
       "        }    #T_c263498e_56a6_11ea_95cb_acde48001122row9_col8 {\n",
       "            background-color:  #e3768c;\n",
       "            color:  #000000;\n",
       "        }    #T_c263498e_56a6_11ea_95cb_acde48001122row9_col9 {\n",
       "            background-color:  #4479bb;\n",
       "            color:  #000000;\n",
       "        }    #T_c263498e_56a6_11ea_95cb_acde48001122row9_col10 {\n",
       "            background-color:  #efb2bf;\n",
       "            color:  #000000;\n",
       "        }    #T_c263498e_56a6_11ea_95cb_acde48001122row10_col0 {\n",
       "            background-color:  #ea97a8;\n",
       "            color:  #000000;\n",
       "        }    #T_c263498e_56a6_11ea_95cb_acde48001122row10_col1 {\n",
       "            background-color:  #e78a9d;\n",
       "            color:  #000000;\n",
       "        }    #T_c263498e_56a6_11ea_95cb_acde48001122row10_col2 {\n",
       "            background-color:  #d83e5d;\n",
       "            color:  #f1f1f1;\n",
       "        }    #T_c263498e_56a6_11ea_95cb_acde48001122row10_col3 {\n",
       "            background-color:  #de5f79;\n",
       "            color:  #000000;\n",
       "        }    #T_c263498e_56a6_11ea_95cb_acde48001122row10_col4 {\n",
       "            background-color:  #de5e77;\n",
       "            color:  #000000;\n",
       "        }    #T_c263498e_56a6_11ea_95cb_acde48001122row10_col5 {\n",
       "            background-color:  #e58094;\n",
       "            color:  #000000;\n",
       "        }    #T_c263498e_56a6_11ea_95cb_acde48001122row10_col6 {\n",
       "            background-color:  #f1b9c4;\n",
       "            color:  #000000;\n",
       "        }    #T_c263498e_56a6_11ea_95cb_acde48001122row10_col7 {\n",
       "            background-color:  #e16d85;\n",
       "            color:  #000000;\n",
       "        }    #T_c263498e_56a6_11ea_95cb_acde48001122row10_col8 {\n",
       "            background-color:  #e7879b;\n",
       "            color:  #000000;\n",
       "        }    #T_c263498e_56a6_11ea_95cb_acde48001122row10_col9 {\n",
       "            background-color:  #efb2bf;\n",
       "            color:  #000000;\n",
       "        }    #T_c263498e_56a6_11ea_95cb_acde48001122row10_col10 {\n",
       "            background-color:  #4479bb;\n",
       "            color:  #000000;\n",
       "        }</style><table id=\"T_c263498e_56a6_11ea_95cb_acde48001122\" ><thead>    <tr>        <th class=\"blank level0\" ></th>        <th class=\"col_heading level0 col0\" >heightInches</th>        <th class=\"col_heading level0 col1\" >happiness</th>        <th class=\"col_heading level0 col2\" >stressed</th>        <th class=\"col_heading level0 col3\" >sleepPerNight</th>        <th class=\"col_heading level0 col4\" >socialDinnerPerWeek</th>        <th class=\"col_heading level0 col5\" >alcoholDrinksPerWeek</th>        <th class=\"col_heading level0 col6\" >caffeineRating</th>        <th class=\"col_heading level0 col7\" >affiliated</th>        <th class=\"col_heading level0 col8\" >numOfLanguages</th>        <th class=\"col_heading level0 col9\" >gymPerWeek</th>        <th class=\"col_heading level0 col10\" >hoursOnScreen</th>    </tr></thead><tbody>\n",
       "                <tr>\n",
       "                        <th id=\"T_c263498e_56a6_11ea_95cb_acde48001122level0_row0\" class=\"row_heading level0 row0\" >heightInches</th>\n",
       "                        <td id=\"T_c263498e_56a6_11ea_95cb_acde48001122row0_col0\" class=\"data row0 col0\" >1</td>\n",
       "                        <td id=\"T_c263498e_56a6_11ea_95cb_acde48001122row0_col1\" class=\"data row0 col1\" >0.1</td>\n",
       "                        <td id=\"T_c263498e_56a6_11ea_95cb_acde48001122row0_col2\" class=\"data row0 col2\" >-0.045</td>\n",
       "                        <td id=\"T_c263498e_56a6_11ea_95cb_acde48001122row0_col3\" class=\"data row0 col3\" >-0.0036</td>\n",
       "                        <td id=\"T_c263498e_56a6_11ea_95cb_acde48001122row0_col4\" class=\"data row0 col4\" >-0.065</td>\n",
       "                        <td id=\"T_c263498e_56a6_11ea_95cb_acde48001122row0_col5\" class=\"data row0 col5\" >0.15</td>\n",
       "                        <td id=\"T_c263498e_56a6_11ea_95cb_acde48001122row0_col6\" class=\"data row0 col6\" >-0.12</td>\n",
       "                        <td id=\"T_c263498e_56a6_11ea_95cb_acde48001122row0_col7\" class=\"data row0 col7\" >-0.013</td>\n",
       "                        <td id=\"T_c263498e_56a6_11ea_95cb_acde48001122row0_col8\" class=\"data row0 col8\" >0.054</td>\n",
       "                        <td id=\"T_c263498e_56a6_11ea_95cb_acde48001122row0_col9\" class=\"data row0 col9\" >0.0015</td>\n",
       "                        <td id=\"T_c263498e_56a6_11ea_95cb_acde48001122row0_col10\" class=\"data row0 col10\" >0.031</td>\n",
       "            </tr>\n",
       "            <tr>\n",
       "                        <th id=\"T_c263498e_56a6_11ea_95cb_acde48001122level0_row1\" class=\"row_heading level0 row1\" >happiness</th>\n",
       "                        <td id=\"T_c263498e_56a6_11ea_95cb_acde48001122row1_col0\" class=\"data row1 col0\" >0.1</td>\n",
       "                        <td id=\"T_c263498e_56a6_11ea_95cb_acde48001122row1_col1\" class=\"data row1 col1\" >1</td>\n",
       "                        <td id=\"T_c263498e_56a6_11ea_95cb_acde48001122row1_col2\" class=\"data row1 col2\" >-0.3</td>\n",
       "                        <td id=\"T_c263498e_56a6_11ea_95cb_acde48001122row1_col3\" class=\"data row1 col3\" >0.043</td>\n",
       "                        <td id=\"T_c263498e_56a6_11ea_95cb_acde48001122row1_col4\" class=\"data row1 col4\" >0.1</td>\n",
       "                        <td id=\"T_c263498e_56a6_11ea_95cb_acde48001122row1_col5\" class=\"data row1 col5\" >-0.13</td>\n",
       "                        <td id=\"T_c263498e_56a6_11ea_95cb_acde48001122row1_col6\" class=\"data row1 col6\" >0.18</td>\n",
       "                        <td id=\"T_c263498e_56a6_11ea_95cb_acde48001122row1_col7\" class=\"data row1 col7\" >-0.14</td>\n",
       "                        <td id=\"T_c263498e_56a6_11ea_95cb_acde48001122row1_col8\" class=\"data row1 col8\" >0.031</td>\n",
       "                        <td id=\"T_c263498e_56a6_11ea_95cb_acde48001122row1_col9\" class=\"data row1 col9\" >0.12</td>\n",
       "                        <td id=\"T_c263498e_56a6_11ea_95cb_acde48001122row1_col10\" class=\"data row1 col10\" >-0.016</td>\n",
       "            </tr>\n",
       "            <tr>\n",
       "                        <th id=\"T_c263498e_56a6_11ea_95cb_acde48001122level0_row2\" class=\"row_heading level0 row2\" >stressed</th>\n",
       "                        <td id=\"T_c263498e_56a6_11ea_95cb_acde48001122row2_col0\" class=\"data row2 col0\" >-0.045</td>\n",
       "                        <td id=\"T_c263498e_56a6_11ea_95cb_acde48001122row2_col1\" class=\"data row2 col1\" >-0.3</td>\n",
       "                        <td id=\"T_c263498e_56a6_11ea_95cb_acde48001122row2_col2\" class=\"data row2 col2\" >1</td>\n",
       "                        <td id=\"T_c263498e_56a6_11ea_95cb_acde48001122row2_col3\" class=\"data row2 col3\" >-0.15</td>\n",
       "                        <td id=\"T_c263498e_56a6_11ea_95cb_acde48001122row2_col4\" class=\"data row2 col4\" >0.063</td>\n",
       "                        <td id=\"T_c263498e_56a6_11ea_95cb_acde48001122row2_col5\" class=\"data row2 col5\" >0.14</td>\n",
       "                        <td id=\"T_c263498e_56a6_11ea_95cb_acde48001122row2_col6\" class=\"data row2 col6\" >-0.016</td>\n",
       "                        <td id=\"T_c263498e_56a6_11ea_95cb_acde48001122row2_col7\" class=\"data row2 col7\" >0.032</td>\n",
       "                        <td id=\"T_c263498e_56a6_11ea_95cb_acde48001122row2_col8\" class=\"data row2 col8\" >-0.087</td>\n",
       "                        <td id=\"T_c263498e_56a6_11ea_95cb_acde48001122row2_col9\" class=\"data row2 col9\" >0.031</td>\n",
       "                        <td id=\"T_c263498e_56a6_11ea_95cb_acde48001122row2_col10\" class=\"data row2 col10\" >-0.28</td>\n",
       "            </tr>\n",
       "            <tr>\n",
       "                        <th id=\"T_c263498e_56a6_11ea_95cb_acde48001122level0_row3\" class=\"row_heading level0 row3\" >sleepPerNight</th>\n",
       "                        <td id=\"T_c263498e_56a6_11ea_95cb_acde48001122row3_col0\" class=\"data row3 col0\" >-0.0036</td>\n",
       "                        <td id=\"T_c263498e_56a6_11ea_95cb_acde48001122row3_col1\" class=\"data row3 col1\" >0.043</td>\n",
       "                        <td id=\"T_c263498e_56a6_11ea_95cb_acde48001122row3_col2\" class=\"data row3 col2\" >-0.15</td>\n",
       "                        <td id=\"T_c263498e_56a6_11ea_95cb_acde48001122row3_col3\" class=\"data row3 col3\" >1</td>\n",
       "                        <td id=\"T_c263498e_56a6_11ea_95cb_acde48001122row3_col4\" class=\"data row3 col4\" >-0.021</td>\n",
       "                        <td id=\"T_c263498e_56a6_11ea_95cb_acde48001122row3_col5\" class=\"data row3 col5\" >-0.11</td>\n",
       "                        <td id=\"T_c263498e_56a6_11ea_95cb_acde48001122row3_col6\" class=\"data row3 col6\" >-0.16</td>\n",
       "                        <td id=\"T_c263498e_56a6_11ea_95cb_acde48001122row3_col7\" class=\"data row3 col7\" >0.015</td>\n",
       "                        <td id=\"T_c263498e_56a6_11ea_95cb_acde48001122row3_col8\" class=\"data row3 col8\" >-0.059</td>\n",
       "                        <td id=\"T_c263498e_56a6_11ea_95cb_acde48001122row3_col9\" class=\"data row3 col9\" >-0.089</td>\n",
       "                        <td id=\"T_c263498e_56a6_11ea_95cb_acde48001122row3_col10\" class=\"data row3 col10\" >-0.16</td>\n",
       "            </tr>\n",
       "            <tr>\n",
       "                        <th id=\"T_c263498e_56a6_11ea_95cb_acde48001122level0_row4\" class=\"row_heading level0 row4\" >socialDinnerPerWeek</th>\n",
       "                        <td id=\"T_c263498e_56a6_11ea_95cb_acde48001122row4_col0\" class=\"data row4 col0\" >-0.065</td>\n",
       "                        <td id=\"T_c263498e_56a6_11ea_95cb_acde48001122row4_col1\" class=\"data row4 col1\" >0.1</td>\n",
       "                        <td id=\"T_c263498e_56a6_11ea_95cb_acde48001122row4_col2\" class=\"data row4 col2\" >0.063</td>\n",
       "                        <td id=\"T_c263498e_56a6_11ea_95cb_acde48001122row4_col3\" class=\"data row4 col3\" >-0.021</td>\n",
       "                        <td id=\"T_c263498e_56a6_11ea_95cb_acde48001122row4_col4\" class=\"data row4 col4\" >1</td>\n",
       "                        <td id=\"T_c263498e_56a6_11ea_95cb_acde48001122row4_col5\" class=\"data row4 col5\" >0.46</td>\n",
       "                        <td id=\"T_c263498e_56a6_11ea_95cb_acde48001122row4_col6\" class=\"data row4 col6\" >0.071</td>\n",
       "                        <td id=\"T_c263498e_56a6_11ea_95cb_acde48001122row4_col7\" class=\"data row4 col7\" >0.25</td>\n",
       "                        <td id=\"T_c263498e_56a6_11ea_95cb_acde48001122row4_col8\" class=\"data row4 col8\" >-0.16</td>\n",
       "                        <td id=\"T_c263498e_56a6_11ea_95cb_acde48001122row4_col9\" class=\"data row4 col9\" >0.0063</td>\n",
       "                        <td id=\"T_c263498e_56a6_11ea_95cb_acde48001122row4_col10\" class=\"data row4 col10\" >-0.17</td>\n",
       "            </tr>\n",
       "            <tr>\n",
       "                        <th id=\"T_c263498e_56a6_11ea_95cb_acde48001122level0_row5\" class=\"row_heading level0 row5\" >alcoholDrinksPerWeek</th>\n",
       "                        <td id=\"T_c263498e_56a6_11ea_95cb_acde48001122row5_col0\" class=\"data row5 col0\" >0.15</td>\n",
       "                        <td id=\"T_c263498e_56a6_11ea_95cb_acde48001122row5_col1\" class=\"data row5 col1\" >-0.13</td>\n",
       "                        <td id=\"T_c263498e_56a6_11ea_95cb_acde48001122row5_col2\" class=\"data row5 col2\" >0.14</td>\n",
       "                        <td id=\"T_c263498e_56a6_11ea_95cb_acde48001122row5_col3\" class=\"data row5 col3\" >-0.11</td>\n",
       "                        <td id=\"T_c263498e_56a6_11ea_95cb_acde48001122row5_col4\" class=\"data row5 col4\" >0.46</td>\n",
       "                        <td id=\"T_c263498e_56a6_11ea_95cb_acde48001122row5_col5\" class=\"data row5 col5\" >1</td>\n",
       "                        <td id=\"T_c263498e_56a6_11ea_95cb_acde48001122row5_col6\" class=\"data row5 col6\" >-0.0051</td>\n",
       "                        <td id=\"T_c263498e_56a6_11ea_95cb_acde48001122row5_col7\" class=\"data row5 col7\" >0.39</td>\n",
       "                        <td id=\"T_c263498e_56a6_11ea_95cb_acde48001122row5_col8\" class=\"data row5 col8\" >-0.24</td>\n",
       "                        <td id=\"T_c263498e_56a6_11ea_95cb_acde48001122row5_col9\" class=\"data row5 col9\" >0.16</td>\n",
       "                        <td id=\"T_c263498e_56a6_11ea_95cb_acde48001122row5_col10\" class=\"data row5 col10\" >-0.049</td>\n",
       "            </tr>\n",
       "            <tr>\n",
       "                        <th id=\"T_c263498e_56a6_11ea_95cb_acde48001122level0_row6\" class=\"row_heading level0 row6\" >caffeineRating</th>\n",
       "                        <td id=\"T_c263498e_56a6_11ea_95cb_acde48001122row6_col0\" class=\"data row6 col0\" >-0.12</td>\n",
       "                        <td id=\"T_c263498e_56a6_11ea_95cb_acde48001122row6_col1\" class=\"data row6 col1\" >0.18</td>\n",
       "                        <td id=\"T_c263498e_56a6_11ea_95cb_acde48001122row6_col2\" class=\"data row6 col2\" >-0.016</td>\n",
       "                        <td id=\"T_c263498e_56a6_11ea_95cb_acde48001122row6_col3\" class=\"data row6 col3\" >-0.16</td>\n",
       "                        <td id=\"T_c263498e_56a6_11ea_95cb_acde48001122row6_col4\" class=\"data row6 col4\" >0.071</td>\n",
       "                        <td id=\"T_c263498e_56a6_11ea_95cb_acde48001122row6_col5\" class=\"data row6 col5\" >-0.0051</td>\n",
       "                        <td id=\"T_c263498e_56a6_11ea_95cb_acde48001122row6_col6\" class=\"data row6 col6\" >1</td>\n",
       "                        <td id=\"T_c263498e_56a6_11ea_95cb_acde48001122row6_col7\" class=\"data row6 col7\" >-0.11</td>\n",
       "                        <td id=\"T_c263498e_56a6_11ea_95cb_acde48001122row6_col8\" class=\"data row6 col8\" >0.13</td>\n",
       "                        <td id=\"T_c263498e_56a6_11ea_95cb_acde48001122row6_col9\" class=\"data row6 col9\" >0.13</td>\n",
       "                        <td id=\"T_c263498e_56a6_11ea_95cb_acde48001122row6_col10\" class=\"data row6 col10\" >0.15</td>\n",
       "            </tr>\n",
       "            <tr>\n",
       "                        <th id=\"T_c263498e_56a6_11ea_95cb_acde48001122level0_row7\" class=\"row_heading level0 row7\" >affiliated</th>\n",
       "                        <td id=\"T_c263498e_56a6_11ea_95cb_acde48001122row7_col0\" class=\"data row7 col0\" >-0.013</td>\n",
       "                        <td id=\"T_c263498e_56a6_11ea_95cb_acde48001122row7_col1\" class=\"data row7 col1\" >-0.14</td>\n",
       "                        <td id=\"T_c263498e_56a6_11ea_95cb_acde48001122row7_col2\" class=\"data row7 col2\" >0.032</td>\n",
       "                        <td id=\"T_c263498e_56a6_11ea_95cb_acde48001122row7_col3\" class=\"data row7 col3\" >0.015</td>\n",
       "                        <td id=\"T_c263498e_56a6_11ea_95cb_acde48001122row7_col4\" class=\"data row7 col4\" >0.25</td>\n",
       "                        <td id=\"T_c263498e_56a6_11ea_95cb_acde48001122row7_col5\" class=\"data row7 col5\" >0.39</td>\n",
       "                        <td id=\"T_c263498e_56a6_11ea_95cb_acde48001122row7_col6\" class=\"data row7 col6\" >-0.11</td>\n",
       "                        <td id=\"T_c263498e_56a6_11ea_95cb_acde48001122row7_col7\" class=\"data row7 col7\" >1</td>\n",
       "                        <td id=\"T_c263498e_56a6_11ea_95cb_acde48001122row7_col8\" class=\"data row7 col8\" >-0.12</td>\n",
       "                        <td id=\"T_c263498e_56a6_11ea_95cb_acde48001122row7_col9\" class=\"data row7 col9\" >-0.11</td>\n",
       "                        <td id=\"T_c263498e_56a6_11ea_95cb_acde48001122row7_col10\" class=\"data row7 col10\" >-0.12</td>\n",
       "            </tr>\n",
       "            <tr>\n",
       "                        <th id=\"T_c263498e_56a6_11ea_95cb_acde48001122level0_row8\" class=\"row_heading level0 row8\" >numOfLanguages</th>\n",
       "                        <td id=\"T_c263498e_56a6_11ea_95cb_acde48001122row8_col0\" class=\"data row8 col0\" >0.054</td>\n",
       "                        <td id=\"T_c263498e_56a6_11ea_95cb_acde48001122row8_col1\" class=\"data row8 col1\" >0.031</td>\n",
       "                        <td id=\"T_c263498e_56a6_11ea_95cb_acde48001122row8_col2\" class=\"data row8 col2\" >-0.087</td>\n",
       "                        <td id=\"T_c263498e_56a6_11ea_95cb_acde48001122row8_col3\" class=\"data row8 col3\" >-0.059</td>\n",
       "                        <td id=\"T_c263498e_56a6_11ea_95cb_acde48001122row8_col4\" class=\"data row8 col4\" >-0.16</td>\n",
       "                        <td id=\"T_c263498e_56a6_11ea_95cb_acde48001122row8_col5\" class=\"data row8 col5\" >-0.24</td>\n",
       "                        <td id=\"T_c263498e_56a6_11ea_95cb_acde48001122row8_col6\" class=\"data row8 col6\" >0.13</td>\n",
       "                        <td id=\"T_c263498e_56a6_11ea_95cb_acde48001122row8_col7\" class=\"data row8 col7\" >-0.12</td>\n",
       "                        <td id=\"T_c263498e_56a6_11ea_95cb_acde48001122row8_col8\" class=\"data row8 col8\" >1</td>\n",
       "                        <td id=\"T_c263498e_56a6_11ea_95cb_acde48001122row8_col9\" class=\"data row8 col9\" >-0.088</td>\n",
       "                        <td id=\"T_c263498e_56a6_11ea_95cb_acde48001122row8_col10\" class=\"data row8 col10\" >-0.027</td>\n",
       "            </tr>\n",
       "            <tr>\n",
       "                        <th id=\"T_c263498e_56a6_11ea_95cb_acde48001122level0_row9\" class=\"row_heading level0 row9\" >gymPerWeek</th>\n",
       "                        <td id=\"T_c263498e_56a6_11ea_95cb_acde48001122row9_col0\" class=\"data row9 col0\" >0.0015</td>\n",
       "                        <td id=\"T_c263498e_56a6_11ea_95cb_acde48001122row9_col1\" class=\"data row9 col1\" >0.12</td>\n",
       "                        <td id=\"T_c263498e_56a6_11ea_95cb_acde48001122row9_col2\" class=\"data row9 col2\" >0.031</td>\n",
       "                        <td id=\"T_c263498e_56a6_11ea_95cb_acde48001122row9_col3\" class=\"data row9 col3\" >-0.089</td>\n",
       "                        <td id=\"T_c263498e_56a6_11ea_95cb_acde48001122row9_col4\" class=\"data row9 col4\" >0.0063</td>\n",
       "                        <td id=\"T_c263498e_56a6_11ea_95cb_acde48001122row9_col5\" class=\"data row9 col5\" >0.16</td>\n",
       "                        <td id=\"T_c263498e_56a6_11ea_95cb_acde48001122row9_col6\" class=\"data row9 col6\" >0.13</td>\n",
       "                        <td id=\"T_c263498e_56a6_11ea_95cb_acde48001122row9_col7\" class=\"data row9 col7\" >-0.11</td>\n",
       "                        <td id=\"T_c263498e_56a6_11ea_95cb_acde48001122row9_col8\" class=\"data row9 col8\" >-0.088</td>\n",
       "                        <td id=\"T_c263498e_56a6_11ea_95cb_acde48001122row9_col9\" class=\"data row9 col9\" >1</td>\n",
       "                        <td id=\"T_c263498e_56a6_11ea_95cb_acde48001122row9_col10\" class=\"data row9 col10\" >0.12</td>\n",
       "            </tr>\n",
       "            <tr>\n",
       "                        <th id=\"T_c263498e_56a6_11ea_95cb_acde48001122level0_row10\" class=\"row_heading level0 row10\" >hoursOnScreen</th>\n",
       "                        <td id=\"T_c263498e_56a6_11ea_95cb_acde48001122row10_col0\" class=\"data row10 col0\" >0.031</td>\n",
       "                        <td id=\"T_c263498e_56a6_11ea_95cb_acde48001122row10_col1\" class=\"data row10 col1\" >-0.016</td>\n",
       "                        <td id=\"T_c263498e_56a6_11ea_95cb_acde48001122row10_col2\" class=\"data row10 col2\" >-0.28</td>\n",
       "                        <td id=\"T_c263498e_56a6_11ea_95cb_acde48001122row10_col3\" class=\"data row10 col3\" >-0.16</td>\n",
       "                        <td id=\"T_c263498e_56a6_11ea_95cb_acde48001122row10_col4\" class=\"data row10 col4\" >-0.17</td>\n",
       "                        <td id=\"T_c263498e_56a6_11ea_95cb_acde48001122row10_col5\" class=\"data row10 col5\" >-0.049</td>\n",
       "                        <td id=\"T_c263498e_56a6_11ea_95cb_acde48001122row10_col6\" class=\"data row10 col6\" >0.15</td>\n",
       "                        <td id=\"T_c263498e_56a6_11ea_95cb_acde48001122row10_col7\" class=\"data row10 col7\" >-0.12</td>\n",
       "                        <td id=\"T_c263498e_56a6_11ea_95cb_acde48001122row10_col8\" class=\"data row10 col8\" >-0.027</td>\n",
       "                        <td id=\"T_c263498e_56a6_11ea_95cb_acde48001122row10_col9\" class=\"data row10 col9\" >0.12</td>\n",
       "                        <td id=\"T_c263498e_56a6_11ea_95cb_acde48001122row10_col10\" class=\"data row10 col10\" >1</td>\n",
       "            </tr>\n",
       "    </tbody></table>"
      ],
      "text/plain": [
       "<pandas.io.formats.style.Styler at 0x1a2342f4d0>"
      ]
     },
     "execution_count": 6,
     "metadata": {},
     "output_type": "execute_result"
    }
   ],
   "source": [
    "# find correlation between different variables\n",
    "corr = df.corr()\n",
    "cmap = sns.diverging_palette(5, 250, as_cmap=True)\n",
    "corr.style.background_gradient(cmap=cmap, axis=None).set_precision(2)"
   ]
  },
  {
   "cell_type": "markdown",
   "metadata": {},
   "source": [
    "Looks like the highest correlations are between alcoholic drinks per week, social dinners per week, and affiliation. Let's visualize some of this data"
   ]
  },
  {
   "cell_type": "code",
   "execution_count": 7,
   "metadata": {},
   "outputs": [
    {
     "name": "stdout",
     "output_type": "stream",
     "text": [
      "proportion of Dali members affiliated: 0.6\n",
      "proportion of Dali members not affiliated: 0.4\n"
     ]
    }
   ],
   "source": [
    "perc_affiliated = round(len(df[df['affiliated'] == 1]) / len(df), 2)\n",
    "perc_not_affiliated = round(len(df[df['affiliated'] == 0]) / len(df), 2)\n",
    "\n",
    "print('proportion of Dali members affiliated: ' + str(perc_affiliated))\n",
    "print('proportion of Dali members not affiliated: ' + str(perc_not_affiliated))"
   ]
  },
  {
   "cell_type": "code",
   "execution_count": 8,
   "metadata": {},
   "outputs": [
    {
     "name": "stdout",
     "output_type": "stream",
     "text": [
      "Stats for Alcoholic Drinks Per Week for Affiliated Members: \n",
      "range: 0.0 to 15.0\n",
      "mean: 5.6\n",
      "standard deviation: 3.9\n",
      "median: 5.0\n",
      "\n",
      "\n",
      "Stats for Alcoholic Drinks Per Week for Not Affiliated Members: \n",
      "range: 0.0 to 8.0\n",
      "mean: 2.7\n",
      "standard deviation: 2.3\n",
      "median: 2.0\n"
     ]
    }
   ],
   "source": [
    "df_alcohol = df[['alcoholDrinksPerWeek','affiliated']]\n",
    "# list of drinks per week for affiliated and non-affiliated Dali members\n",
    "alcohol_aff = df_alcohol[df_alcohol['affiliated'] == 1]['alcoholDrinksPerWeek']\n",
    "alcohol_not_aff = df_alcohol[df_alcohol['affiliated'] == 0]['alcoholDrinksPerWeek']\n",
    "\n",
    "# display some stats\n",
    "print('Stats for Alcoholic Drinks Per Week for Affiliated Members: ')\n",
    "print('range: ' + str(min(alcohol_aff)) + \" to \" + str(max(alcohol_aff)))\n",
    "print('mean: ' + str(round(np.mean(alcohol_aff), 1)))\n",
    "print('standard deviation: ' + str(round(np.std(alcohol_aff), 1)))\n",
    "print('median: ' + str(round(np.median(alcohol_aff), 1)))\n",
    "\n",
    "print('\\n')\n",
    "\n",
    "print('Stats for Alcoholic Drinks Per Week for Not Affiliated Members: ')\n",
    "print('range: ' + str(min(alcohol_not_aff)) + \" to \" + str(max(alcohol_not_aff)))\n",
    "print('mean: ' + str(round(np.mean(alcohol_not_aff), 1)))\n",
    "print('standard deviation: ' + str(round(np.std(alcohol_not_aff), 1)))\n",
    "print('median: ' + str(round(np.median(alcohol_not_aff), 1)))"
   ]
  },
  {
   "cell_type": "code",
   "execution_count": 9,
   "metadata": {},
   "outputs": [
    {
     "data": {
      "image/png": "[encoded data removed]",
      "text/plain": [
       "<Figure size 432x288 with 1 Axes>"
      ]
     },
     "metadata": {
      "needs_background": "light"
     },
     "output_type": "display_data"
    }
   ],
   "source": [
    "# plot histogram of drinks per week for affiliated and not affiliated members\n",
    "bins = [i for i in range(0, 16, 2)] # number of drinks, bucketed by 2\n",
    "weights_aff = np.ones(len(alcohol_aff))/len(alcohol_aff)\n",
    "weights_not_aff = np.ones(len(alcohol_not_aff))/len(alcohol_not_aff)\n",
    "plt.hist([alcohol_aff, alcohol_not_aff], bins=bins, label=['Affiliated', 'Not Affiliated'], weights=[weights_aff, weights_not_aff])\n",
    "plt.legend(loc='upper right')\n",
    "plt.title(\"Alcoholic Drinks Per Week for Affiliated vs. Not Affiliated Dali Members\")\n",
    "plt.xlabel(\"Number of Alcoholic Drinks Per Week\")\n",
    "plt.ylabel(\"% of Members in Aff/Not Aff Group\")\n",
    "plt.show()"
   ]
  },
  {
   "cell_type": "code",
   "execution_count": 10,
   "metadata": {},
   "outputs": [
    {
     "name": "stdout",
     "output_type": "stream",
     "text": [
      "Stats for Social Dinners Per Week for Affiliated Members: \n",
      "range: 1.0 to 7.0\n",
      "mean: 4.4\n",
      "standard deviation: 1.8\n",
      "median: 4.0\n",
      "\n",
      "\n",
      "Stats for Social Dinners Per Week for Not Affiliated Members: \n",
      "range: 0.0 to 7.0\n",
      "mean: 3.4\n",
      "standard deviation: 1.9\n",
      "median: 3.0\n"
     ]
    }
   ],
   "source": [
    "df_dins = df[['socialDinnerPerWeek','affiliated']]\n",
    "# list of dinners per week for affiliated and non-affiliated Dali members\n",
    "dins_aff = df_dins[df_dins['affiliated'] == 1]['socialDinnerPerWeek']\n",
    "dins_not_aff = df_dins[df_dins['affiliated'] == 0]['socialDinnerPerWeek']\n",
    "\n",
    "# display some stats\n",
    "print('Stats for Social Dinners Per Week for Affiliated Members: ')\n",
    "print('range: ' + str(min(dins_aff)) + \" to \" + str(max(dins_aff)))\n",
    "print('mean: ' + str(round(np.mean(dins_aff), 1)))\n",
    "print('standard deviation: ' + str(round(np.std(dins_aff), 1)))\n",
    "print('median: ' + str(round(np.median(dins_aff), 1)))\n",
    "\n",
    "print('\\n')\n",
    "\n",
    "print('Stats for Social Dinners Per Week for Not Affiliated Members: ')\n",
    "print('range: ' + str(min(dins_not_aff)) + \" to \" + str(max(dins_not_aff)))\n",
    "print('mean: ' + str(round(np.mean(dins_not_aff), 1)))\n",
    "print('standard deviation: ' + str(round(np.std(dins_not_aff), 1)))\n",
    "print('median: ' + str(round(np.median(dins_not_aff), 1)))"
   ]
  },
  {
   "cell_type": "code",
   "execution_count": 11,
   "metadata": {},
   "outputs": [
    {
     "data": {
      "image/png": "[encoded data removed]",
      "text/plain": [
       "<Figure size 432x288 with 1 Axes>"
      ]
     },
     "metadata": {
      "needs_background": "light"
     },
     "output_type": "display_data"
    }
   ],
   "source": [
    "# plot histogram of social dinners per week for affiliated and not affiliated members\n",
    "bins = [i for i in range(0, 7)] # number of dinners\n",
    "weights_aff = np.ones(len(dins_aff))/len(dins_aff)\n",
    "weights_not_aff = np.ones(len(dins_not_aff))/len(dins_not_aff)\n",
    "plt.hist([dins_aff, dins_not_aff], bins=bins, label=['Affiliated', 'Not Affiliated'], weights=[weights_aff, weights_not_aff])\n",
    "plt.legend(loc='upper right')\n",
    "plt.title(\"Social Dinners Per Week for Affiliated vs. Not Affiliated Dali Members\")\n",
    "plt.xlabel(\"Number of Social Dinners Per Week\")\n",
    "plt.ylabel(\"% of Members in Aff/Not Aff Group\")\n",
    "plt.show()"
   ]
  },
  {
   "cell_type": "markdown",
   "metadata": {},
   "source": [
    "Let's see if we can try to predict whether a member is affiliated based on the other features. First let's try and select the best features to reduce noise and overfitting. From the correlation heatmap and histograms above, we can already guess that alcoholic drinks per week (1st best) and social dinners per week (2nd best) might be the best predictors. Let's use a chi-square test by using sklearn's SelectKBest to look at the potential best features to use for this model"
   ]
  },
  {
   "cell_type": "code",
   "execution_count": 12,
   "metadata": {},
   "outputs": [
    {
     "data": {
      "text/html": [
       "<div>\n",
       "<style scoped>\n",
       "    .dataframe tbody tr th:only-of-type {\n",
       "        vertical-align: middle;\n",
       "    }\n",
       "\n",
       "    .dataframe tbody tr th {\n",
       "        vertical-align: top;\n",
       "    }\n",
       "\n",
       "    .dataframe thead th {\n",
       "        text-align: right;\n",
       "    }\n",
       "</style>\n",
       "<table border=\"1\" class=\"dataframe\">\n",
       "  <thead>\n",
       "    <tr style=\"text-align: right;\">\n",
       "      <th></th>\n",
       "      <th>Features</th>\n",
       "      <th>Scores</th>\n",
       "    </tr>\n",
       "  </thead>\n",
       "  <tbody>\n",
       "    <tr>\n",
       "      <td>5</td>\n",
       "      <td>alcoholDrinksPerWeek</td>\n",
       "      <td>27.794716</td>\n",
       "    </tr>\n",
       "    <tr>\n",
       "      <td>4</td>\n",
       "      <td>socialDinnerPerWeek</td>\n",
       "      <td>3.403208</td>\n",
       "    </tr>\n",
       "    <tr>\n",
       "      <td>6</td>\n",
       "      <td>caffeineRating</td>\n",
       "      <td>1.550828</td>\n",
       "    </tr>\n",
       "    <tr>\n",
       "      <td>8</td>\n",
       "      <td>gymPerWeek</td>\n",
       "      <td>0.953747</td>\n",
       "    </tr>\n",
       "    <tr>\n",
       "      <td>9</td>\n",
       "      <td>hoursOnScreen</td>\n",
       "      <td>0.674835</td>\n",
       "    </tr>\n",
       "    <tr>\n",
       "      <td>7</td>\n",
       "      <td>numOfLanguages</td>\n",
       "      <td>0.335173</td>\n",
       "    </tr>\n",
       "    <tr>\n",
       "      <td>1</td>\n",
       "      <td>happiness</td>\n",
       "      <td>0.155573</td>\n",
       "    </tr>\n",
       "    <tr>\n",
       "      <td>2</td>\n",
       "      <td>stressed</td>\n",
       "      <td>0.053674</td>\n",
       "    </tr>\n",
       "    <tr>\n",
       "      <td>3</td>\n",
       "      <td>sleepPerNight</td>\n",
       "      <td>0.001448</td>\n",
       "    </tr>\n",
       "    <tr>\n",
       "      <td>0</td>\n",
       "      <td>heightInches</td>\n",
       "      <td>0.001405</td>\n",
       "    </tr>\n",
       "  </tbody>\n",
       "</table>\n",
       "</div>"
      ],
      "text/plain": [
       "               Features     Scores\n",
       "5  alcoholDrinksPerWeek  27.794716\n",
       "4   socialDinnerPerWeek   3.403208\n",
       "6        caffeineRating   1.550828\n",
       "8            gymPerWeek   0.953747\n",
       "9         hoursOnScreen   0.674835\n",
       "7        numOfLanguages   0.335173\n",
       "1             happiness   0.155573\n",
       "2              stressed   0.053674\n",
       "3         sleepPerNight   0.001448\n",
       "0          heightInches   0.001405"
      ]
     },
     "execution_count": 12,
     "metadata": {},
     "output_type": "execute_result"
    }
   ],
   "source": [
    "from sklearn.feature_selection import SelectKBest, chi2\n",
    "\n",
    "X_orig = df.drop(['affiliated'], axis=1) # all features except affiliated\n",
    "y = np.ravel(df['affiliated'])\n",
    "\n",
    "best_features = SelectKBest(score_func=chi2)\n",
    "fit = best_features.fit(X_orig, y)\n",
    "\n",
    "#concat features and scores into a dataframe\n",
    "columns = pd.DataFrame(X_orig.columns)\n",
    "scores = pd.DataFrame(fit.scores_)\n",
    "feature_scores = pd.concat([columns, scores],axis=1)\n",
    "feature_scores.columns = ['Features', 'Scores']  #naming the dataframe columns\n",
    "feature_scores.sort_values(by=['Scores'], ascending=False, inplace=True)\n",
    "feature_scores"
   ]
  },
  {
   "cell_type": "code",
   "execution_count": 13,
   "metadata": {},
   "outputs": [
    {
     "data": {
      "image/png": "[encoded data removed]",
      "text/plain": [
       "<Figure size 432x288 with 1 Axes>"
      ]
     },
     "metadata": {
      "needs_background": "light"
     },
     "output_type": "display_data"
    }
   ],
   "source": [
    "# plot this dataframe\n",
    "x_pos = np.arange(len(feature_scores))\n",
    "plt.bar(x=x_pos, height=feature_scores['Scores'], tick_label=feature_scores['Features'])\n",
    "plt.title('Feature Scores with Chi-Square Test')\n",
    "plt.xlabel('Feature')\n",
    "plt.ylabel('Score')\n",
    "plt.xticks(rotation=90)\n",
    "plt.show() "
   ]
  },
  {
   "cell_type": "markdown",
   "metadata": {},
   "source": [
    "I decided to use the top 4 features - alcoholic drinks per week, social dinners per week, caffeine rating, and gym hours per week. As we can see, alcoholic drinks per week is by far the best feature, which supports our findings so far. Since this is a classification without a lot of data, we will try support vector machines, k nearest neighbors, and random forest"
   ]
  },
  {
   "cell_type": "code",
   "execution_count": 14,
   "metadata": {},
   "outputs": [],
   "source": [
    "# update to use these 4 features for the below models\n",
    "X = X_orig[['alcoholDrinksPerWeek', 'socialDinnerPerWeek', 'caffeineRating', 'gymPerWeek']]\n",
    "y = y # same as previous cell"
   ]
  },
  {
   "cell_type": "code",
   "execution_count": 15,
   "metadata": {},
   "outputs": [
    {
     "name": "stderr",
     "output_type": "stream",
     "text": [
      "/Users/michaelzhou/opt/anaconda3/lib/python3.7/site-packages/sklearn/model_selection/_search.py:814: DeprecationWarning: The default of the `iid` parameter will change from True to False in version 0.22 and will be removed in 0.24. This will change numeric results when test-set sizes are unequal.\n",
      "  DeprecationWarning)\n",
      "/Users/michaelzhou/opt/anaconda3/lib/python3.7/site-packages/sklearn/model_selection/_search.py:814: DeprecationWarning: The default of the `iid` parameter will change from True to False in version 0.22 and will be removed in 0.24. This will change numeric results when test-set sizes are unequal.\n",
      "  DeprecationWarning)\n",
      "/Users/michaelzhou/opt/anaconda3/lib/python3.7/site-packages/sklearn/model_selection/_search.py:814: DeprecationWarning: The default of the `iid` parameter will change from True to False in version 0.22 and will be removed in 0.24. This will change numeric results when test-set sizes are unequal.\n",
      "  DeprecationWarning)\n",
      "/Users/michaelzhou/opt/anaconda3/lib/python3.7/site-packages/sklearn/model_selection/_search.py:814: DeprecationWarning: The default of the `iid` parameter will change from True to False in version 0.22 and will be removed in 0.24. This will change numeric results when test-set sizes are unequal.\n",
      "  DeprecationWarning)\n",
      "/Users/michaelzhou/opt/anaconda3/lib/python3.7/site-packages/sklearn/model_selection/_search.py:814: DeprecationWarning: The default of the `iid` parameter will change from True to False in version 0.22 and will be removed in 0.24. This will change numeric results when test-set sizes are unequal.\n",
      "  DeprecationWarning)\n",
      "/Users/michaelzhou/opt/anaconda3/lib/python3.7/site-packages/sklearn/model_selection/_search.py:814: DeprecationWarning: The default of the `iid` parameter will change from True to False in version 0.22 and will be removed in 0.24. This will change numeric results when test-set sizes are unequal.\n",
      "  DeprecationWarning)\n",
      "/Users/michaelzhou/opt/anaconda3/lib/python3.7/site-packages/sklearn/model_selection/_search.py:814: DeprecationWarning: The default of the `iid` parameter will change from True to False in version 0.22 and will be removed in 0.24. This will change numeric results when test-set sizes are unequal.\n",
      "  DeprecationWarning)\n",
      "/Users/michaelzhou/opt/anaconda3/lib/python3.7/site-packages/sklearn/model_selection/_search.py:814: DeprecationWarning: The default of the `iid` parameter will change from True to False in version 0.22 and will be removed in 0.24. This will change numeric results when test-set sizes are unequal.\n",
      "  DeprecationWarning)\n",
      "/Users/michaelzhou/opt/anaconda3/lib/python3.7/site-packages/sklearn/model_selection/_search.py:814: DeprecationWarning: The default of the `iid` parameter will change from True to False in version 0.22 and will be removed in 0.24. This will change numeric results when test-set sizes are unequal.\n",
      "  DeprecationWarning)\n",
      "/Users/michaelzhou/opt/anaconda3/lib/python3.7/site-packages/sklearn/model_selection/_search.py:814: DeprecationWarning: The default of the `iid` parameter will change from True to False in version 0.22 and will be removed in 0.24. This will change numeric results when test-set sizes are unequal.\n",
      "  DeprecationWarning)\n",
      "/Users/michaelzhou/opt/anaconda3/lib/python3.7/site-packages/sklearn/model_selection/_search.py:814: DeprecationWarning: The default of the `iid` parameter will change from True to False in version 0.22 and will be removed in 0.24. This will change numeric results when test-set sizes are unequal.\n",
      "  DeprecationWarning)\n",
      "/Users/michaelzhou/opt/anaconda3/lib/python3.7/site-packages/sklearn/model_selection/_search.py:814: DeprecationWarning: The default of the `iid` parameter will change from True to False in version 0.22 and will be removed in 0.24. This will change numeric results when test-set sizes are unequal.\n",
      "  DeprecationWarning)\n",
      "/Users/michaelzhou/opt/anaconda3/lib/python3.7/site-packages/sklearn/model_selection/_search.py:814: DeprecationWarning: The default of the `iid` parameter will change from True to False in version 0.22 and will be removed in 0.24. This will change numeric results when test-set sizes are unequal.\n",
      "  DeprecationWarning)\n",
      "/Users/michaelzhou/opt/anaconda3/lib/python3.7/site-packages/sklearn/model_selection/_search.py:814: DeprecationWarning: The default of the `iid` parameter will change from True to False in version 0.22 and will be removed in 0.24. This will change numeric results when test-set sizes are unequal.\n",
      "  DeprecationWarning)\n",
      "/Users/michaelzhou/opt/anaconda3/lib/python3.7/site-packages/sklearn/model_selection/_search.py:814: DeprecationWarning: The default of the `iid` parameter will change from True to False in version 0.22 and will be removed in 0.24. This will change numeric results when test-set sizes are unequal.\n",
      "  DeprecationWarning)\n",
      "/Users/michaelzhou/opt/anaconda3/lib/python3.7/site-packages/sklearn/model_selection/_search.py:814: DeprecationWarning: The default of the `iid` parameter will change from True to False in version 0.22 and will be removed in 0.24. This will change numeric results when test-set sizes are unequal.\n",
      "  DeprecationWarning)\n",
      "/Users/michaelzhou/opt/anaconda3/lib/python3.7/site-packages/sklearn/model_selection/_search.py:814: DeprecationWarning: The default of the `iid` parameter will change from True to False in version 0.22 and will be removed in 0.24. This will change numeric results when test-set sizes are unequal.\n",
      "  DeprecationWarning)\n",
      "/Users/michaelzhou/opt/anaconda3/lib/python3.7/site-packages/sklearn/model_selection/_search.py:814: DeprecationWarning: The default of the `iid` parameter will change from True to False in version 0.22 and will be removed in 0.24. This will change numeric results when test-set sizes are unequal.\n",
      "  DeprecationWarning)\n",
      "/Users/michaelzhou/opt/anaconda3/lib/python3.7/site-packages/sklearn/model_selection/_search.py:814: DeprecationWarning: The default of the `iid` parameter will change from True to False in version 0.22 and will be removed in 0.24. This will change numeric results when test-set sizes are unequal.\n",
      "  DeprecationWarning)\n"
     ]
    },
    {
     "name": "stdout",
     "output_type": "stream",
     "text": [
      "support vector machines accuracy 0.6653225806451613\n"
     ]
    },
    {
     "name": "stderr",
     "output_type": "stream",
     "text": [
      "/Users/michaelzhou/opt/anaconda3/lib/python3.7/site-packages/sklearn/model_selection/_search.py:814: DeprecationWarning: The default of the `iid` parameter will change from True to False in version 0.22 and will be removed in 0.24. This will change numeric results when test-set sizes are unequal.\n",
      "  DeprecationWarning)\n"
     ]
    }
   ],
   "source": [
    "# svm\n",
    "from sklearn.preprocessing import Normalizer, StandardScaler\n",
    "from sklearn.model_selection import KFold, GridSearchCV\n",
    "from sklearn.pipeline import Pipeline\n",
    "\n",
    "from sklearn import svm\n",
    "\n",
    "# run following many times to get more accurate accuracy metric\n",
    "num_trials = 20 # would do higher if I had more computation power\n",
    "total_accuracies = []\n",
    "n_splits = 5 # for kfold; only 62 data points so want a decent number (12) to test on\n",
    "\n",
    "for i in range(num_trials):\n",
    "    kf = KFold(n_splits=n_splits, shuffle=True) # use k-fold cross validation\n",
    "    pipe = Pipeline([('normalizer', Normalizer()), ('StandardScaler', StandardScaler()), ('clf', svm.SVC())])\n",
    "    # perform a grid search to get the best hyperparameters\n",
    "    grid_param = { \n",
    "        'clf__gamma': [2**-3, 2**-1, 2**1, 2**3, 2**5, 2**7, 2**9, 'scale', 'auto'],\n",
    "        'clf__C': [2**-3, 2**-1, 2**1, 2**3, 2**5, 2**7, 2**9], \n",
    "        'clf__kernel': ['linear', 'rbf'], # don't have the computing power to try non-linear (poly)\n",
    "    }\n",
    "    gd_sr = GridSearchCV(estimator=pipe, param_grid=grid_param, scoring='accuracy', cv=kf)\n",
    "    gd_sr.fit(X, y) # keep track of gd_sr.best_params_ if we were to actually use the model to predict\n",
    "    \n",
    "    total_accuracies.append(gd_sr.best_score_)\n",
    "    \n",
    "# find best parameters and corresponding score\n",
    "acc_svm = np.mean(total_accuracies)\n",
    "print('support vector machines accuracy', acc_svm)"
   ]
  },
  {
   "cell_type": "code",
   "execution_count": 16,
   "metadata": {},
   "outputs": [
    {
     "name": "stderr",
     "output_type": "stream",
     "text": [
      "/Users/michaelzhou/opt/anaconda3/lib/python3.7/site-packages/sklearn/model_selection/_search.py:814: DeprecationWarning: The default of the `iid` parameter will change from True to False in version 0.22 and will be removed in 0.24. This will change numeric results when test-set sizes are unequal.\n",
      "  DeprecationWarning)\n",
      "/Users/michaelzhou/opt/anaconda3/lib/python3.7/site-packages/sklearn/model_selection/_search.py:814: DeprecationWarning: The default of the `iid` parameter will change from True to False in version 0.22 and will be removed in 0.24. This will change numeric results when test-set sizes are unequal.\n",
      "  DeprecationWarning)\n",
      "/Users/michaelzhou/opt/anaconda3/lib/python3.7/site-packages/sklearn/model_selection/_search.py:814: DeprecationWarning: The default of the `iid` parameter will change from True to False in version 0.22 and will be removed in 0.24. This will change numeric results when test-set sizes are unequal.\n",
      "  DeprecationWarning)\n",
      "/Users/michaelzhou/opt/anaconda3/lib/python3.7/site-packages/sklearn/model_selection/_search.py:814: DeprecationWarning: The default of the `iid` parameter will change from True to False in version 0.22 and will be removed in 0.24. This will change numeric results when test-set sizes are unequal.\n",
      "  DeprecationWarning)\n",
      "/Users/michaelzhou/opt/anaconda3/lib/python3.7/site-packages/sklearn/model_selection/_search.py:814: DeprecationWarning: The default of the `iid` parameter will change from True to False in version 0.22 and will be removed in 0.24. This will change numeric results when test-set sizes are unequal.\n",
      "  DeprecationWarning)\n",
      "/Users/michaelzhou/opt/anaconda3/lib/python3.7/site-packages/sklearn/model_selection/_search.py:814: DeprecationWarning: The default of the `iid` parameter will change from True to False in version 0.22 and will be removed in 0.24. This will change numeric results when test-set sizes are unequal.\n",
      "  DeprecationWarning)\n",
      "/Users/michaelzhou/opt/anaconda3/lib/python3.7/site-packages/sklearn/model_selection/_search.py:814: DeprecationWarning: The default of the `iid` parameter will change from True to False in version 0.22 and will be removed in 0.24. This will change numeric results when test-set sizes are unequal.\n",
      "  DeprecationWarning)\n",
      "/Users/michaelzhou/opt/anaconda3/lib/python3.7/site-packages/sklearn/model_selection/_search.py:814: DeprecationWarning: The default of the `iid` parameter will change from True to False in version 0.22 and will be removed in 0.24. This will change numeric results when test-set sizes are unequal.\n",
      "  DeprecationWarning)\n",
      "/Users/michaelzhou/opt/anaconda3/lib/python3.7/site-packages/sklearn/model_selection/_search.py:814: DeprecationWarning: The default of the `iid` parameter will change from True to False in version 0.22 and will be removed in 0.24. This will change numeric results when test-set sizes are unequal.\n",
      "  DeprecationWarning)\n",
      "/Users/michaelzhou/opt/anaconda3/lib/python3.7/site-packages/sklearn/model_selection/_search.py:814: DeprecationWarning: The default of the `iid` parameter will change from True to False in version 0.22 and will be removed in 0.24. This will change numeric results when test-set sizes are unequal.\n",
      "  DeprecationWarning)\n",
      "/Users/michaelzhou/opt/anaconda3/lib/python3.7/site-packages/sklearn/model_selection/_search.py:814: DeprecationWarning: The default of the `iid` parameter will change from True to False in version 0.22 and will be removed in 0.24. This will change numeric results when test-set sizes are unequal.\n",
      "  DeprecationWarning)\n",
      "/Users/michaelzhou/opt/anaconda3/lib/python3.7/site-packages/sklearn/model_selection/_search.py:814: DeprecationWarning: The default of the `iid` parameter will change from True to False in version 0.22 and will be removed in 0.24. This will change numeric results when test-set sizes are unequal.\n",
      "  DeprecationWarning)\n",
      "/Users/michaelzhou/opt/anaconda3/lib/python3.7/site-packages/sklearn/model_selection/_search.py:814: DeprecationWarning: The default of the `iid` parameter will change from True to False in version 0.22 and will be removed in 0.24. This will change numeric results when test-set sizes are unequal.\n",
      "  DeprecationWarning)\n",
      "/Users/michaelzhou/opt/anaconda3/lib/python3.7/site-packages/sklearn/model_selection/_search.py:814: DeprecationWarning: The default of the `iid` parameter will change from True to False in version 0.22 and will be removed in 0.24. This will change numeric results when test-set sizes are unequal.\n",
      "  DeprecationWarning)\n",
      "/Users/michaelzhou/opt/anaconda3/lib/python3.7/site-packages/sklearn/model_selection/_search.py:814: DeprecationWarning: The default of the `iid` parameter will change from True to False in version 0.22 and will be removed in 0.24. This will change numeric results when test-set sizes are unequal.\n",
      "  DeprecationWarning)\n",
      "/Users/michaelzhou/opt/anaconda3/lib/python3.7/site-packages/sklearn/model_selection/_search.py:814: DeprecationWarning: The default of the `iid` parameter will change from True to False in version 0.22 and will be removed in 0.24. This will change numeric results when test-set sizes are unequal.\n",
      "  DeprecationWarning)\n",
      "/Users/michaelzhou/opt/anaconda3/lib/python3.7/site-packages/sklearn/model_selection/_search.py:814: DeprecationWarning: The default of the `iid` parameter will change from True to False in version 0.22 and will be removed in 0.24. This will change numeric results when test-set sizes are unequal.\n",
      "  DeprecationWarning)\n",
      "/Users/michaelzhou/opt/anaconda3/lib/python3.7/site-packages/sklearn/model_selection/_search.py:814: DeprecationWarning: The default of the `iid` parameter will change from True to False in version 0.22 and will be removed in 0.24. This will change numeric results when test-set sizes are unequal.\n",
      "  DeprecationWarning)\n",
      "/Users/michaelzhou/opt/anaconda3/lib/python3.7/site-packages/sklearn/model_selection/_search.py:814: DeprecationWarning: The default of the `iid` parameter will change from True to False in version 0.22 and will be removed in 0.24. This will change numeric results when test-set sizes are unequal.\n",
      "  DeprecationWarning)\n"
     ]
    },
    {
     "name": "stdout",
     "output_type": "stream",
     "text": [
      "k nearest neighbors accuracy 0.6629032258064517\n"
     ]
    },
    {
     "name": "stderr",
     "output_type": "stream",
     "text": [
      "/Users/michaelzhou/opt/anaconda3/lib/python3.7/site-packages/sklearn/model_selection/_search.py:814: DeprecationWarning: The default of the `iid` parameter will change from True to False in version 0.22 and will be removed in 0.24. This will change numeric results when test-set sizes are unequal.\n",
      "  DeprecationWarning)\n"
     ]
    }
   ],
   "source": [
    "# now let's try with KNeighborsClassifier\n",
    "from sklearn.neighbors import KNeighborsClassifier\n",
    "\n",
    "\n",
    "# run following many times to get more accurate accuracy metric\n",
    "num_trials = 20 # would do higher if I had more computation power\n",
    "total_accuracies = []\n",
    "n_splits = 5 # for kfold\n",
    "\n",
    "for i in range(num_trials):\n",
    "    kf = KFold(n_splits=n_splits, shuffle=True) # use k-fold cross validation\n",
    "    pipe = Pipeline([('normalizer', Normalizer()), ('StandardScaler', StandardScaler()), ('clf', KNeighborsClassifier())])\n",
    "    # perform a grid search to get the best hyperparameters\n",
    "    grid_param = { \n",
    "        'clf__n_neighbors': [3, 4, 5, 6, 7, 8], # most important parameter\n",
    "        'clf__weights': ['uniform', 'distance'],\n",
    "        'clf__algorithm': ['auto', 'ball_tree', 'kd_tree', 'brute']\n",
    "    }\n",
    "\n",
    "    gd_sr = GridSearchCV(estimator=pipe, param_grid=grid_param, scoring='accuracy', cv=kf)\n",
    "    gd_sr.fit(X, y)\n",
    "\n",
    "    total_accuracies.append(gd_sr.best_score_)\n",
    "    \n",
    "# find best parameters and corresponding score\n",
    "acc_knn = np.mean(total_accuracies)\n",
    "print('k nearest neighbors accuracy', acc_knn)"
   ]
  },
  {
   "cell_type": "code",
   "execution_count": 17,
   "metadata": {},
   "outputs": [
    {
     "name": "stderr",
     "output_type": "stream",
     "text": [
      "/Users/michaelzhou/opt/anaconda3/lib/python3.7/site-packages/sklearn/model_selection/_search.py:814: DeprecationWarning: The default of the `iid` parameter will change from True to False in version 0.22 and will be removed in 0.24. This will change numeric results when test-set sizes are unequal.\n",
      "  DeprecationWarning)\n"
     ]
    },
    {
     "name": "stdout",
     "output_type": "stream",
     "text": [
      "{'clf__max_depth': 2, 'clf__n_estimators': 8}\n"
     ]
    },
    {
     "name": "stderr",
     "output_type": "stream",
     "text": [
      "/Users/michaelzhou/opt/anaconda3/lib/python3.7/site-packages/sklearn/model_selection/_search.py:814: DeprecationWarning: The default of the `iid` parameter will change from True to False in version 0.22 and will be removed in 0.24. This will change numeric results when test-set sizes are unequal.\n",
      "  DeprecationWarning)\n"
     ]
    },
    {
     "name": "stdout",
     "output_type": "stream",
     "text": [
      "{'clf__max_depth': 2, 'clf__n_estimators': 20}\n"
     ]
    },
    {
     "name": "stderr",
     "output_type": "stream",
     "text": [
      "/Users/michaelzhou/opt/anaconda3/lib/python3.7/site-packages/sklearn/model_selection/_search.py:814: DeprecationWarning: The default of the `iid` parameter will change from True to False in version 0.22 and will be removed in 0.24. This will change numeric results when test-set sizes are unequal.\n",
      "  DeprecationWarning)\n"
     ]
    },
    {
     "name": "stdout",
     "output_type": "stream",
     "text": [
      "{'clf__max_depth': 4, 'clf__n_estimators': 8}\n"
     ]
    },
    {
     "name": "stderr",
     "output_type": "stream",
     "text": [
      "/Users/michaelzhou/opt/anaconda3/lib/python3.7/site-packages/sklearn/model_selection/_search.py:814: DeprecationWarning: The default of the `iid` parameter will change from True to False in version 0.22 and will be removed in 0.24. This will change numeric results when test-set sizes are unequal.\n",
      "  DeprecationWarning)\n"
     ]
    },
    {
     "name": "stdout",
     "output_type": "stream",
     "text": [
      "{'clf__max_depth': 4, 'clf__n_estimators': 8}\n"
     ]
    },
    {
     "name": "stderr",
     "output_type": "stream",
     "text": [
      "/Users/michaelzhou/opt/anaconda3/lib/python3.7/site-packages/sklearn/model_selection/_search.py:814: DeprecationWarning: The default of the `iid` parameter will change from True to False in version 0.22 and will be removed in 0.24. This will change numeric results when test-set sizes are unequal.\n",
      "  DeprecationWarning)\n"
     ]
    },
    {
     "name": "stdout",
     "output_type": "stream",
     "text": [
      "{'clf__max_depth': 2, 'clf__n_estimators': 16}\n"
     ]
    },
    {
     "name": "stderr",
     "output_type": "stream",
     "text": [
      "/Users/michaelzhou/opt/anaconda3/lib/python3.7/site-packages/sklearn/model_selection/_search.py:814: DeprecationWarning: The default of the `iid` parameter will change from True to False in version 0.22 and will be removed in 0.24. This will change numeric results when test-set sizes are unequal.\n",
      "  DeprecationWarning)\n"
     ]
    },
    {
     "name": "stdout",
     "output_type": "stream",
     "text": [
      "{'clf__max_depth': 2, 'clf__n_estimators': 12}\n"
     ]
    },
    {
     "name": "stderr",
     "output_type": "stream",
     "text": [
      "/Users/michaelzhou/opt/anaconda3/lib/python3.7/site-packages/sklearn/model_selection/_search.py:814: DeprecationWarning: The default of the `iid` parameter will change from True to False in version 0.22 and will be removed in 0.24. This will change numeric results when test-set sizes are unequal.\n",
      "  DeprecationWarning)\n"
     ]
    },
    {
     "name": "stdout",
     "output_type": "stream",
     "text": [
      "{'clf__max_depth': 2, 'clf__n_estimators': 8}\n"
     ]
    },
    {
     "name": "stderr",
     "output_type": "stream",
     "text": [
      "/Users/michaelzhou/opt/anaconda3/lib/python3.7/site-packages/sklearn/model_selection/_search.py:814: DeprecationWarning: The default of the `iid` parameter will change from True to False in version 0.22 and will be removed in 0.24. This will change numeric results when test-set sizes are unequal.\n",
      "  DeprecationWarning)\n"
     ]
    },
    {
     "name": "stdout",
     "output_type": "stream",
     "text": [
      "{'clf__max_depth': 4, 'clf__n_estimators': 12}\n"
     ]
    },
    {
     "name": "stderr",
     "output_type": "stream",
     "text": [
      "/Users/michaelzhou/opt/anaconda3/lib/python3.7/site-packages/sklearn/model_selection/_search.py:814: DeprecationWarning: The default of the `iid` parameter will change from True to False in version 0.22 and will be removed in 0.24. This will change numeric results when test-set sizes are unequal.\n",
      "  DeprecationWarning)\n"
     ]
    },
    {
     "name": "stdout",
     "output_type": "stream",
     "text": [
      "{'clf__max_depth': 3, 'clf__n_estimators': 12}\n"
     ]
    },
    {
     "name": "stderr",
     "output_type": "stream",
     "text": [
      "/Users/michaelzhou/opt/anaconda3/lib/python3.7/site-packages/sklearn/model_selection/_search.py:814: DeprecationWarning: The default of the `iid` parameter will change from True to False in version 0.22 and will be removed in 0.24. This will change numeric results when test-set sizes are unequal.\n",
      "  DeprecationWarning)\n"
     ]
    },
    {
     "name": "stdout",
     "output_type": "stream",
     "text": [
      "{'clf__max_depth': 2, 'clf__n_estimators': 12}\n"
     ]
    },
    {
     "name": "stderr",
     "output_type": "stream",
     "text": [
      "/Users/michaelzhou/opt/anaconda3/lib/python3.7/site-packages/sklearn/model_selection/_search.py:814: DeprecationWarning: The default of the `iid` parameter will change from True to False in version 0.22 and will be removed in 0.24. This will change numeric results when test-set sizes are unequal.\n",
      "  DeprecationWarning)\n"
     ]
    },
    {
     "name": "stdout",
     "output_type": "stream",
     "text": [
      "{'clf__max_depth': 2, 'clf__n_estimators': 8}\n"
     ]
    },
    {
     "name": "stderr",
     "output_type": "stream",
     "text": [
      "/Users/michaelzhou/opt/anaconda3/lib/python3.7/site-packages/sklearn/model_selection/_search.py:814: DeprecationWarning: The default of the `iid` parameter will change from True to False in version 0.22 and will be removed in 0.24. This will change numeric results when test-set sizes are unequal.\n",
      "  DeprecationWarning)\n"
     ]
    },
    {
     "name": "stdout",
     "output_type": "stream",
     "text": [
      "{'clf__max_depth': 2, 'clf__n_estimators': 16}\n"
     ]
    },
    {
     "name": "stderr",
     "output_type": "stream",
     "text": [
      "/Users/michaelzhou/opt/anaconda3/lib/python3.7/site-packages/sklearn/model_selection/_search.py:814: DeprecationWarning: The default of the `iid` parameter will change from True to False in version 0.22 and will be removed in 0.24. This will change numeric results when test-set sizes are unequal.\n",
      "  DeprecationWarning)\n"
     ]
    },
    {
     "name": "stdout",
     "output_type": "stream",
     "text": [
      "{'clf__max_depth': 2, 'clf__n_estimators': 12}\n"
     ]
    },
    {
     "name": "stderr",
     "output_type": "stream",
     "text": [
      "/Users/michaelzhou/opt/anaconda3/lib/python3.7/site-packages/sklearn/model_selection/_search.py:814: DeprecationWarning: The default of the `iid` parameter will change from True to False in version 0.22 and will be removed in 0.24. This will change numeric results when test-set sizes are unequal.\n",
      "  DeprecationWarning)\n"
     ]
    },
    {
     "name": "stdout",
     "output_type": "stream",
     "text": [
      "{'clf__max_depth': 3, 'clf__n_estimators': 8}\n"
     ]
    },
    {
     "name": "stderr",
     "output_type": "stream",
     "text": [
      "/Users/michaelzhou/opt/anaconda3/lib/python3.7/site-packages/sklearn/model_selection/_search.py:814: DeprecationWarning: The default of the `iid` parameter will change from True to False in version 0.22 and will be removed in 0.24. This will change numeric results when test-set sizes are unequal.\n",
      "  DeprecationWarning)\n"
     ]
    },
    {
     "name": "stdout",
     "output_type": "stream",
     "text": [
      "{'clf__max_depth': 2, 'clf__n_estimators': 8}\n"
     ]
    },
    {
     "name": "stderr",
     "output_type": "stream",
     "text": [
      "/Users/michaelzhou/opt/anaconda3/lib/python3.7/site-packages/sklearn/model_selection/_search.py:814: DeprecationWarning: The default of the `iid` parameter will change from True to False in version 0.22 and will be removed in 0.24. This will change numeric results when test-set sizes are unequal.\n",
      "  DeprecationWarning)\n"
     ]
    },
    {
     "name": "stdout",
     "output_type": "stream",
     "text": [
      "{'clf__max_depth': 4, 'clf__n_estimators': 16}\n"
     ]
    },
    {
     "name": "stderr",
     "output_type": "stream",
     "text": [
      "/Users/michaelzhou/opt/anaconda3/lib/python3.7/site-packages/sklearn/model_selection/_search.py:814: DeprecationWarning: The default of the `iid` parameter will change from True to False in version 0.22 and will be removed in 0.24. This will change numeric results when test-set sizes are unequal.\n",
      "  DeprecationWarning)\n"
     ]
    },
    {
     "name": "stdout",
     "output_type": "stream",
     "text": [
      "{'clf__max_depth': 2, 'clf__n_estimators': 20}\n"
     ]
    },
    {
     "name": "stderr",
     "output_type": "stream",
     "text": [
      "/Users/michaelzhou/opt/anaconda3/lib/python3.7/site-packages/sklearn/model_selection/_search.py:814: DeprecationWarning: The default of the `iid` parameter will change from True to False in version 0.22 and will be removed in 0.24. This will change numeric results when test-set sizes are unequal.\n",
      "  DeprecationWarning)\n"
     ]
    },
    {
     "name": "stdout",
     "output_type": "stream",
     "text": [
      "{'clf__max_depth': 4, 'clf__n_estimators': 16}\n"
     ]
    },
    {
     "name": "stderr",
     "output_type": "stream",
     "text": [
      "/Users/michaelzhou/opt/anaconda3/lib/python3.7/site-packages/sklearn/model_selection/_search.py:814: DeprecationWarning: The default of the `iid` parameter will change from True to False in version 0.22 and will be removed in 0.24. This will change numeric results when test-set sizes are unequal.\n",
      "  DeprecationWarning)\n"
     ]
    },
    {
     "name": "stdout",
     "output_type": "stream",
     "text": [
      "{'clf__max_depth': 2, 'clf__n_estimators': 12}\n",
      "{'clf__max_depth': 3, 'clf__n_estimators': 16}\n",
      "random forest accuracy 0.6524193548387097\n"
     ]
    },
    {
     "name": "stderr",
     "output_type": "stream",
     "text": [
      "/Users/michaelzhou/opt/anaconda3/lib/python3.7/site-packages/sklearn/model_selection/_search.py:814: DeprecationWarning: The default of the `iid` parameter will change from True to False in version 0.22 and will be removed in 0.24. This will change numeric results when test-set sizes are unequal.\n",
      "  DeprecationWarning)\n"
     ]
    }
   ],
   "source": [
    "# now let's try with random forest\n",
    "from sklearn.ensemble import RandomForestClassifier\n",
    "\n",
    "# run following many times to get more accurate accuracy metric\n",
    "num_trials = 20 # would do higher if I had more computation power\n",
    "total_accuracies = []\n",
    "n_splits = 5 # for kfold\n",
    "\n",
    "for i in range(num_trials):\n",
    "    kf = KFold(n_splits=n_splits, shuffle=True) # use k-fold cross validation\n",
    "    pipe = Pipeline([('normalizer', Normalizer()), ('StandardScaler', StandardScaler()), ('clf', RandomForestClassifier())])\n",
    "    # perform a grid search to get the best hyperparameters\n",
    "    grid_param = { \n",
    "        # would check more parameters with more numbers if I had more computing power\n",
    "        # already zoomed into numerical areas for n_estimators and max_depth\n",
    "        'clf__n_estimators': [8, 12, 16, 20],\n",
    "        'clf__max_depth': [2, 3, 4]\n",
    "    }\n",
    "\n",
    "    gd_sr = GridSearchCV(estimator=pipe, param_grid=grid_param, scoring='accuracy', cv=kf)\n",
    "    gd_sr.fit(X, y)\n",
    "    print(gd_sr.best_params_)\n",
    "    total_accuracies.append(gd_sr.best_score_)\n",
    "    \n",
    "# find best parameters and corresponding score\n",
    "acc_rf = np.mean(total_accuracies)\n",
    "print('random forest accuracy', acc_rf)"
   ]
  },
  {
   "cell_type": "markdown",
   "metadata": {},
   "source": [
    "support vector machines, k nearest neighbors, and random forest all give about the same accuracy (66-68%) -- let's do some more in depth analysis on random forest by fitting it on our best grid search parameters and looking at some data. First we'll revisit feature importance based on random forest to confirm we chose good features."
   ]
  },
  {
   "cell_type": "code",
   "execution_count": 18,
   "metadata": {},
   "outputs": [
    {
     "data": {
      "text/plain": [
       "RandomForestClassifier(bootstrap=True, class_weight=None, criterion='gini',\n",
       "                       max_depth=3, max_features='auto', max_leaf_nodes=None,\n",
       "                       min_impurity_decrease=0.0, min_impurity_split=None,\n",
       "                       min_samples_leaf=1, min_samples_split=2,\n",
       "                       min_weight_fraction_leaf=0.0, n_estimators=8,\n",
       "                       n_jobs=None, oob_score=False, random_state=None,\n",
       "                       verbose=0, warm_start=False)"
      ]
     },
     "execution_count": 18,
     "metadata": {},
     "output_type": "execute_result"
    }
   ],
   "source": [
    "rf = RandomForestClassifier(n_estimators=8, max_depth=3)\n",
    "rf.fit(X_orig, y) # run with all features"
   ]
  },
  {
   "cell_type": "markdown",
   "metadata": {},
   "source": [
    "Random forest feature importance:"
   ]
  },
  {
   "cell_type": "code",
   "execution_count": 19,
   "metadata": {},
   "outputs": [
    {
     "data": {
      "text/html": [
       "<div>\n",
       "<style scoped>\n",
       "    .dataframe tbody tr th:only-of-type {\n",
       "        vertical-align: middle;\n",
       "    }\n",
       "\n",
       "    .dataframe tbody tr th {\n",
       "        vertical-align: top;\n",
       "    }\n",
       "\n",
       "    .dataframe thead th {\n",
       "        text-align: right;\n",
       "    }\n",
       "</style>\n",
       "<table border=\"1\" class=\"dataframe\">\n",
       "  <thead>\n",
       "    <tr style=\"text-align: right;\">\n",
       "      <th></th>\n",
       "      <th>importance</th>\n",
       "    </tr>\n",
       "    <tr>\n",
       "      <th>feature</th>\n",
       "      <th></th>\n",
       "    </tr>\n",
       "  </thead>\n",
       "  <tbody>\n",
       "    <tr>\n",
       "      <td>socialDinnerPerWeek</td>\n",
       "      <td>0.232</td>\n",
       "    </tr>\n",
       "    <tr>\n",
       "      <td>alcoholDrinksPerWeek</td>\n",
       "      <td>0.165</td>\n",
       "    </tr>\n",
       "    <tr>\n",
       "      <td>numOfLanguages</td>\n",
       "      <td>0.120</td>\n",
       "    </tr>\n",
       "    <tr>\n",
       "      <td>gymPerWeek</td>\n",
       "      <td>0.115</td>\n",
       "    </tr>\n",
       "    <tr>\n",
       "      <td>heightInches</td>\n",
       "      <td>0.095</td>\n",
       "    </tr>\n",
       "    <tr>\n",
       "      <td>stressed</td>\n",
       "      <td>0.092</td>\n",
       "    </tr>\n",
       "    <tr>\n",
       "      <td>caffeineRating</td>\n",
       "      <td>0.068</td>\n",
       "    </tr>\n",
       "    <tr>\n",
       "      <td>hoursOnScreen</td>\n",
       "      <td>0.054</td>\n",
       "    </tr>\n",
       "    <tr>\n",
       "      <td>sleepPerNight</td>\n",
       "      <td>0.051</td>\n",
       "    </tr>\n",
       "    <tr>\n",
       "      <td>happiness</td>\n",
       "      <td>0.007</td>\n",
       "    </tr>\n",
       "  </tbody>\n",
       "</table>\n",
       "</div>"
      ],
      "text/plain": [
       "                      importance\n",
       "feature                         \n",
       "socialDinnerPerWeek        0.232\n",
       "alcoholDrinksPerWeek       0.165\n",
       "numOfLanguages             0.120\n",
       "gymPerWeek                 0.115\n",
       "heightInches               0.095\n",
       "stressed                   0.092\n",
       "caffeineRating             0.068\n",
       "hoursOnScreen              0.054\n",
       "sleepPerNight              0.051\n",
       "happiness                  0.007"
      ]
     },
     "execution_count": 19,
     "metadata": {},
     "output_type": "execute_result"
    }
   ],
   "source": [
    "importances = pd.DataFrame({'feature':X_orig.columns,'importance':np.round(rf.feature_importances_,3)})\n",
    "importances = importances.sort_values('importance',ascending=False).set_index('feature')\n",
    "importances"
   ]
  },
  {
   "cell_type": "code",
   "execution_count": 20,
   "metadata": {},
   "outputs": [
    {
     "data": {
      "text/plain": [
       "<matplotlib.axes._subplots.AxesSubplot at 0x1a25030cd0>"
      ]
     },
     "execution_count": 20,
     "metadata": {},
     "output_type": "execute_result"
    },
    {
     "data": {
      "image/png": "[encoded data removed]",
      "text/plain": [
       "<Figure size 432x288 with 1 Axes>"
      ]
     },
     "metadata": {
      "needs_background": "light"
     },
     "output_type": "display_data"
    }
   ],
   "source": [
    "importances.plot.bar()"
   ]
  },
  {
   "cell_type": "markdown",
   "metadata": {},
   "source": [
    "Looks like we did a good job at picking out features. Now let's look at other result metrics -- the confusion matrix, precision, recall "
   ]
  },
  {
   "cell_type": "code",
   "execution_count": 21,
   "metadata": {},
   "outputs": [
    {
     "data": {
      "text/plain": [
       "RandomForestClassifier(bootstrap=True, class_weight=None, criterion='gini',\n",
       "                       max_depth=2, max_features='auto', max_leaf_nodes=None,\n",
       "                       min_impurity_decrease=0.0, min_impurity_split=None,\n",
       "                       min_samples_leaf=1, min_samples_split=2,\n",
       "                       min_weight_fraction_leaf=0.0, n_estimators=12,\n",
       "                       n_jobs=None, oob_score=False, random_state=None,\n",
       "                       verbose=0, warm_start=False)"
      ]
     },
     "execution_count": 21,
     "metadata": {},
     "output_type": "execute_result"
    }
   ],
   "source": [
    "rf = RandomForestClassifier(n_estimators=12, max_depth=2)\n",
    "rf.fit(X, y) # now use the 4 best features again"
   ]
  },
  {
   "cell_type": "code",
   "execution_count": 22,
   "metadata": {},
   "outputs": [
    {
     "data": {
      "text/plain": [
       "array([[ 9, 16],\n",
       "       [ 4, 33]])"
      ]
     },
     "execution_count": 22,
     "metadata": {},
     "output_type": "execute_result"
    }
   ],
   "source": [
    "from sklearn.model_selection import cross_val_predict\n",
    "from sklearn.metrics import confusion_matrix\n",
    "\n",
    "predictions = cross_val_predict(rf, X, y, cv=5)\n",
    "confusion_matrix(y, predictions)"
   ]
  },
  {
   "cell_type": "code",
   "execution_count": 23,
   "metadata": {},
   "outputs": [
    {
     "name": "stdout",
     "output_type": "stream",
     "text": [
      "Precision: 0.673469387755102\n",
      "Recall: 0.8918918918918919\n"
     ]
    }
   ],
   "source": [
    "from sklearn.metrics import precision_score, recall_score\n",
    "\n",
    "print(\"Precision:\", precision_score(y, predictions))\n",
    "print(\"Recall:\", recall_score(y, predictions))"
   ]
  },
  {
   "cell_type": "code",
   "execution_count": 24,
   "metadata": {},
   "outputs": [
    {
     "name": "stdout",
     "output_type": "stream",
     "text": [
      "F1 score: 0.7674418604651163\n"
     ]
    }
   ],
   "source": [
    "from sklearn.metrics import f1_score\n",
    "print(\"F1 score:\", f1_score(y, predictions))"
   ]
  },
  {
   "cell_type": "code",
   "execution_count": null,
   "metadata": {},
   "outputs": [],
   "source": []
  }
 ],
 "metadata": {
  "kernelspec": {
   "display_name": "Python 3",
   "language": "python",
   "name": "python3"
  },
  "language_info": {
   "codemirror_mode": {
    "name": "ipython",
    "version": 3
   },
   "file_extension": ".py",
   "mimetype": "text/x-python",
   "name": "python",
   "nbconvert_exporter": "python",
   "pygments_lexer": "ipython3",
   "version": "3.7.4"
  }
 },
 "nbformat": 4,
 "nbformat_minor": 2
}
